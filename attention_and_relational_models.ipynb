{
 "cells": [
  {
   "cell_type": "code",
   "execution_count": 1,
   "metadata": {},
   "outputs": [],
   "source": [
    "import numpy as np\n",
    "from matplotlib import pyplot as plt\n",
    "import torch\n",
    "from torch import nn\n",
    "import torchvision as TV"
   ]
  },
  {
   "cell_type": "markdown",
   "metadata": {},
   "source": [
    "## Self-attention for MNIST"
   ]
  },
  {
   "cell_type": "code",
   "execution_count": 2,
   "metadata": {},
   "outputs": [],
   "source": [
    "mnist_data = TV.datasets.MNIST(\"MNIST/\", train = True, transform = None, target_transform = None, download = True)\n",
    "\n",
    "mnist_test = TV.datasets.MNIST(\"MNIST/\", train = False, transform = None, target_transform = None, download = True)"
   ]
  },
  {
   "cell_type": "code",
   "execution_count": 3,
   "metadata": {},
   "outputs": [],
   "source": [
    "def add_spots(x, m = 20, std = 5,val = 1):\n",
    "    mask = torch.zeros(x.shape)\n",
    "    N = int(m + std * np.abs(np.random.randn()))\n",
    "    ids = np.random.randint(np.prod(x.shape), size = N)\n",
    "    mask.view(-1)[ids] = val\n",
    "    return torch.clamp(x + mask, 0, 1)\n",
    "\n",
    "\n",
    "def prepare_images(xt, maxtrans = 6, rot = 5, noise = 10):\n",
    "    out = torch.zeros(xt.shape)\n",
    "    for i in range(xt.shape[0]):\n",
    "        img = xt[i].unsqueeze(dim = 0)\n",
    "        img = TV.transforms.functional.to_pil_image(img)\n",
    "        rand_rot = np.random.randint(-1 * rot, rot, 1) if rot > 0 else 0\n",
    "        xtrans,ytrans = np.random.randint(-maxtrans, maxtrans, 2)\n",
    "        img = TV.transforms.functional.affine(img, rand_rot, (xtrans, ytrans), 1, 0)\n",
    "        img = TV.transforms.functional.to_tensor(img).squeeze()\n",
    "        if noise > 0:\n",
    "            img = add_spots(img, m = noise)\n",
    "        maxval = img.view(-1).max()\n",
    "        if maxval > 0:\n",
    "            img = img.float() / maxval\n",
    "        else:\n",
    "            img = img.float()\n",
    "        out[i] = img\n",
    "    return out"
   ]
  },
  {
   "cell_type": "code",
   "execution_count": 4,
   "metadata": {},
   "outputs": [],
   "source": [
    "class RelationalModule(torch.nn.Module):\n",
    "    def __init__(self):\n",
    "        super().__init__()\n",
    "        self.ch_in = 1\n",
    "        self.conv1_ch = 16\n",
    "        self.conv2_ch = 20\n",
    "        self.conv3_ch = 24\n",
    "        self.conv4_ch = 30\n",
    "        self.H = 28\n",
    "        self.W = 28\n",
    "        self.node_size = 36\n",
    "        self.lin_hid = 100\n",
    "        self.out_dim = 10\n",
    "        self.sp_coord_dim = 2\n",
    "        self.N = int(16**2)\n",
    "\n",
    "        self.conv1 = nn.Conv2d(self.ch_in, self.conv1_ch, kernel_size = (4, 4))\n",
    "        self.conv2 = nn.Conv2d(self.conv1_ch, self.conv2_ch, kernel_size = (4, 4))\n",
    "        self.conv3 = nn.Conv2d(self.conv2_ch, self.conv3_ch, kernel_size = (4, 4))\n",
    "        self.conv4 = nn.Conv2d(self.conv3_ch, self.conv4_ch, kernel_size = (4, 4))\n",
    "\n",
    "        self.proj_shape = (self.conv4_ch + self.sp_coord_dim, self.node_size)\n",
    "        self.k_proj = nn.Linear(*self.proj_shape)\n",
    "        self.q_proj = nn.Linear(*self.proj_shape)\n",
    "        self.v_proj = nn.Linear(*self.proj_shape)\n",
    "\n",
    "        self.norm_shape = (self.N, self.node_size)\n",
    "        self.k_norm = nn.LayerNorm(self.norm_shape, elementwise_affine = True)\n",
    "        self.q_norm = nn.LayerNorm(self.norm_shape, elementwise_affine = True)\n",
    "        self.v_norm = nn.LayerNorm(self.norm_shape, elementwise_affine = True)\n",
    "\n",
    "        self.linear1 = nn.Linear(self.node_size, self.node_size)\n",
    "        self.norm1 = nn.LayerNorm([self.N, self.node_size], elementwise_affine = False)\n",
    "        self.linear2 = nn.Linear(self.node_size, self.out_dim)\n",
    "        \n",
    "    def forward(self,x):\n",
    "        N, Cin, H, W = x.shape\n",
    "        x = self.conv1(x)\n",
    "        x = torch.relu(x)\n",
    "        x = self.conv2(x)\n",
    "        x = x.squeeze()\n",
    "        x = torch.relu(x)\n",
    "        x = self.conv3(x)\n",
    "        x = torch.relu(x)\n",
    "        x = self.conv4(x)\n",
    "        x = torch.relu(x)\n",
    "        _, _, cH, cW = x.shape\n",
    "        xcoords = torch.arange(cW).repeat(cH, 1).float() / cW\n",
    "        ycoords = torch.arange(cH).repeat(cW, 1).transpose(1, 0).float() / cH\n",
    "        spatial_coords = torch.stack([xcoords, ycoords], dim = 0)\n",
    "        spatial_coords = spatial_coords.unsqueeze(dim = 0)\n",
    "        spatial_coords = spatial_coords.repeat(N, 1, 1, 1)\n",
    "        x = torch.cat([x, spatial_coords], dim = 1)\n",
    "        x = x.permute(0, 2, 3, 1)\n",
    "        x = x.flatten(1, 2)\n",
    "        K = self.k_proj(x)\n",
    "        K = self.k_norm(K)\n",
    "        Q = self.q_proj(x)\n",
    "        Q = self.q_norm(Q)\n",
    "        V = self.v_proj(x)\n",
    "        V = self.v_norm(V)\n",
    "        A = torch.einsum('bfe,bge->bfg', Q, K)\n",
    "        A = A / np.sqrt(self.node_size)\n",
    "        A = torch.nn.functional.softmax(A, dim = 2)\n",
    "        with torch.no_grad():\n",
    "            self.att_map = A.clone()\n",
    "        E = torch.einsum('bfc,bcd->bfd', A, V)\n",
    "        E = self.linear1(E)\n",
    "        E = torch.relu(E)\n",
    "        E = self.norm1(E)\n",
    "        E = E.max(dim = 1)[0]\n",
    "        y = self.linear2(E)\n",
    "        y = torch.nn.functional.log_softmax(y, dim = 1)\n",
    "        return y"
   ]
  },
  {
   "cell_type": "code",
   "execution_count": 6,
   "metadata": {},
   "outputs": [
    {
     "name": "stderr",
     "output_type": "stream",
     "text": [
      "/home/antti/miniconda3/envs/pytorch/lib/python3.8/site-packages/torchvision/datasets/mnist.py:55: UserWarning: train_data has been renamed data\n",
      "  warnings.warn(\"train_data has been renamed data\")\n",
      "/home/antti/miniconda3/envs/pytorch/lib/python3.8/site-packages/torchvision/datasets/mnist.py:45: UserWarning: train_labels has been renamed targets\n",
      "  warnings.warn(\"train_labels has been renamed targets\")\n"
     ]
    },
    {
     "name": "stdout",
     "output_type": "stream",
     "text": [
      "0\n",
      "200\n",
      "400\n",
      "600\n",
      "800\n"
     ]
    }
   ],
   "source": [
    "agent = RelationalModule()\n",
    "epochs = 1_000\n",
    "batch_size = 300\n",
    "lr = 1e-3\n",
    "opt = torch.optim.Adam(params = agent.parameters(),lr = lr)\n",
    "lossfn = nn.NLLLoss()\n",
    "losses = []\n",
    "\n",
    "for i in range(epochs):\n",
    "    opt.zero_grad()\n",
    "    batch_ids = np.random.randint(0, 60_000,size = batch_size)\n",
    "    xt = mnist_data.train_data[batch_ids].detach()\n",
    "    xt = prepare_images(xt, rot =30).unsqueeze(dim = 1)\n",
    "    yt = mnist_data.train_labels[batch_ids].detach()\n",
    "    pred = agent(xt)\n",
    "    pred_labels = torch.argmax(pred, dim = 1)\n",
    "    acc_ = 100.0 * (pred_labels == yt).sum() / batch_size\n",
    "    correct = torch.zeros(batch_size, 10)\n",
    "    rows = torch.arange(batch_size).long()\n",
    "    correct[[rows, yt.detach().long()]] = 1.0\n",
    "    loss = lossfn(pred, yt)\n",
    "    losses.append(loss.item())\n",
    "    loss.backward()\n",
    "    opt.step()\n",
    "    if i % 200 == 0:\n",
    "        print(i)"
   ]
  },
  {
   "cell_type": "code",
   "execution_count": 7,
   "metadata": {},
   "outputs": [
    {
     "data": {
      "image/png": "[encoded data removed]",
      "text/plain": [
       "<Figure size 432x288 with 1 Axes>"
      ]
     },
     "metadata": {
      "needs_background": "light"
     },
     "output_type": "display_data"
    }
   ],
   "source": [
    "plt.plot(losses);"
   ]
  },
  {
   "cell_type": "code",
   "execution_count": 8,
   "metadata": {},
   "outputs": [
    {
     "name": "stderr",
     "output_type": "stream",
     "text": [
      "/home/antti/miniconda3/envs/pytorch/lib/python3.8/site-packages/torchvision/datasets/mnist.py:60: UserWarning: test_data has been renamed data\n",
      "  warnings.warn(\"test_data has been renamed data\")\n",
      "/home/antti/miniconda3/envs/pytorch/lib/python3.8/site-packages/torchvision/datasets/mnist.py:50: UserWarning: test_labels has been renamed targets\n",
      "  warnings.warn(\"test_labels has been renamed targets\")\n"
     ]
    },
    {
     "data": {
      "text/plain": [
       "tensor(0.9320)"
      ]
     },
     "execution_count": 8,
     "metadata": {},
     "output_type": "execute_result"
    }
   ],
   "source": [
    "def test_acc(model, batch_size = 500):\n",
    "    acc = 0.0\n",
    "    batch_ids = np.random.randint(0, 1_0000, size = batch_size)\n",
    "    xt = mnist_test.test_data[batch_ids].detach()\n",
    "    xt = prepare_images(xt, maxtrans = 6, rot = 30, noise = 10).unsqueeze(dim = 1)\n",
    "    yt = mnist_test.test_labels[batch_ids].detach()\n",
    "    preds = model(xt)\n",
    "    pred_ind = torch.argmax(preds.detach(), dim = 1)\n",
    "    acc = (pred_ind == yt).sum().float() / batch_size\n",
    "    return acc, xt, yt\n",
    "\n",
    "acc2, xt2, yt2 = test_acc(agent)\n",
    "acc2"
   ]
  },
  {
   "cell_type": "code",
   "execution_count": 59,
   "metadata": {},
   "outputs": [
    {
     "data": {
      "image/png": "[encoded data removed]",
      "text/plain": [
       "<Figure size 432x288 with 1 Axes>"
      ]
     },
     "metadata": {
      "needs_background": "light"
     },
     "output_type": "display_data"
    }
   ],
   "source": [
    "plt.imshow(xt2[9].squeeze());"
   ]
  },
  {
   "cell_type": "code",
   "execution_count": 60,
   "metadata": {},
   "outputs": [
    {
     "data": {
      "image/png": "[encoded data removed]",
      "text/plain": [
       "<Figure size 432x288 with 1 Axes>"
      ]
     },
     "metadata": {
      "needs_background": "light"
     },
     "output_type": "display_data"
    }
   ],
   "source": [
    "plt.imshow(agent.att_map[9].max(dim = 0)[0].view(16, 16));"
   ]
  }
 ],
 "metadata": {
  "kernelspec": {
   "display_name": "Python 3",
   "language": "python",
   "name": "python3"
  },
  "language_info": {
   "codemirror_mode": {
    "name": "ipython",
    "version": 3
   },
   "file_extension": ".py",
   "mimetype": "text/x-python",
   "name": "python",
   "nbconvert_exporter": "python",
   "pygments_lexer": "ipython3",
   "version": "3.8.1"
  }
 },
 "nbformat": 4,
 "nbformat_minor": 4
}
