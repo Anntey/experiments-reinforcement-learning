{
 "cells": [
  {
   "cell_type": "markdown",
   "metadata": {},
   "source": [
    "## REINFORCE algorithm"
   ]
  },
  {
   "cell_type": "code",
   "execution_count": 8,
   "metadata": {},
   "outputs": [],
   "source": [
    "import gym\n",
    "import numpy as np\n",
    "import torch\n",
    "import matplotlib.pyplot as plt\n",
    "import pandas as pd\n",
    "from torch.nn import Sequential, Linear, LeakyReLU, Softmax\n",
    "from torch.optim import Adam"
   ]
  },
  {
   "cell_type": "code",
   "execution_count": 90,
   "metadata": {},
   "outputs": [],
   "source": [
    "env = gym.make('CartPole-v0')\n",
    "GPU = torch.device('cuda:0')\n",
    "action_space = [0, 1]\n",
    "dim_input = 4\n",
    "dim_hidden = 150\n",
    "dim_output = len(action_space)\n",
    "learn_rate = 9e-4\n",
    "\n",
    "model = Sequential(\n",
    "    Linear(dim_input, dim_hidden),\n",
    "    LeakyReLU(),\n",
    "    Linear(dim_hidden, dim_output),\n",
    "    Softmax(dim = -1)\n",
    ")\n",
    "\n",
    "model = model.to(GPU)\n",
    "\n",
    "optimizer = Adam(model.parameters(), lr = learn_rate)"
   ]
  },
  {
   "cell_type": "code",
   "execution_count": 91,
   "metadata": {},
   "outputs": [],
   "source": [
    "def discount_rewards(rewards, gamma = 0.99):\n",
    "    gamma = torch.tensor(gamma).to(GPU, dtype = torch.float)\n",
    "    exponents = torch.arange(len(rewards)).to(GPU, dtype = torch.float)\n",
    "    disc_rewards = torch.pow(gamma, exponents) * rewards\n",
    "    disc_rewards = disc_rewards / disc_rewards.max()\n",
    "    return disc_rewards\n",
    "\n",
    "def loss_fun(probs, disc_rewards):\n",
    "    return -1 * torch.sum(disc_rewards * torch.log(probs))"
   ]
  },
  {
   "cell_type": "code",
   "execution_count": 92,
   "metadata": {},
   "outputs": [
    {
     "name": "stdout",
     "output_type": "stream",
     "text": [
      "Epoch: 0001 | Loss: 4.4302\n",
      "Epoch: 0101 | Loss: 10.2596\n",
      "Epoch: 0201 | Loss: 6.5195\n",
      "Epoch: 0301 | Loss: 8.8182\n",
      "Epoch: 0401 | Loss: 13.9283\n",
      "Epoch: 0501 | Loss: 23.5974\n",
      "Epoch: 0601 | Loss: 30.0981\n",
      "Epoch: 0701 | Loss: 24.9073\n",
      "Epoch: 0801 | Loss: 33.8331\n",
      "Epoch: 0901 | Loss: 13.3422\n"
     ]
    }
   ],
   "source": [
    "max_episodes = 1_000\n",
    "max_actions = 200\n",
    "len_episodes = []\n",
    "\n",
    "# ----------------- Game starts -----------------\n",
    "for i_episode in range(max_episodes):\n",
    "    # Update state\n",
    "    state = env.reset()\n",
    "    finished = False\n",
    "    transitions = []\n",
    "    # ----------------- Episode starts -----------------\n",
    "    for i_action in range(max_actions):\n",
    "        state_torch = torch.from_numpy(state).to(GPU, dtype = torch.float)\n",
    "        # Get action probabilities\n",
    "        probs = model(state_torch).cpu().data.numpy()\n",
    "        # Select action stochastically\n",
    "        action = np.random.choice(action_space, p = probs)\n",
    "        # Save (s, a, a_i) tuple\n",
    "        transitions.append((state, action, i_action + 1))\n",
    "        # Take action\n",
    "        new_state, _, finished, _ = env.step(action)\n",
    "        # Update state\n",
    "        state = new_state     \n",
    "        # Check if game is lost\n",
    "        if finished == True:\n",
    "            break\n",
    "    # ----------------- Episode ends -----------------\n",
    "    # Save episode length\n",
    "    len_episodes.append(len(transitions))\n",
    "    # Collect rewards from episode and discount them\n",
    "    rewards_epi = torch.tensor([r for (s, a, r) in transitions]).flip(dims = (0,)).to(GPU, dtype = torch.float)\n",
    "    rewards_epi = discount_rewards(rewards_epi)\n",
    "    # Collect states from episode\n",
    "    states_epi = torch.tensor([s for (s, a, r) in transitions]).to(GPU, dtype = torch.float)\n",
    "    # Collection actions from episode\n",
    "    actions_epi = torch.tensor([a for (s, a, r) in transitions]).to(GPU, dtype = torch.float)\n",
    "    # Re-compute action probabilities for all states in episode\n",
    "    probs_epi = model(states_epi)\n",
    "    # Subset the probabilities associated with actions that were chosen\n",
    "    probs_epi = probs_epi.gather(dim = 1, index = actions_epi.long().view(-1, 1)).squeeze()\n",
    "    # Compute loss\n",
    "    loss_epi = loss_fun(probs_epi, rewards_epi)\n",
    "    # Update model parameters\n",
    "    optimizer.zero_grad()\n",
    "    loss_epi.backward()\n",
    "    optimizer.step()\n",
    "    # Print progress\n",
    "    if i_episode % 100 == 0:\n",
    "        print(f'Epoch: {(i_episode + 1):04d} | Loss: {loss_epi.item():.4f}')\n",
    "# ----------------- Game ends -----------------        "
   ]
  },
  {
   "cell_type": "code",
   "execution_count": 93,
   "metadata": {},
   "outputs": [
    {
     "data": {
      "image/png": "[encoded data removed]",
      "text/plain": [
       "<Figure size 432x288 with 1 Axes>"
      ]
     },
     "metadata": {
      "needs_background": "light"
     },
     "output_type": "display_data"
    }
   ],
   "source": [
    "len_episodes = pd.Series(len_episodes)\n",
    "len_episodes = len_episodes.rolling(100).mean()\n",
    "\n",
    "plt.plot(len_episodes)\n",
    "plt.ylabel('Episode duration')\n",
    "plt.xlabel('Epochs');"
   ]
  }
 ],
 "metadata": {
  "kernelspec": {
   "display_name": "Python 3",
   "language": "python",
   "name": "python3"
  },
  "language_info": {
   "codemirror_mode": {
    "name": "ipython",
    "version": 3
   },
   "file_extension": ".py",
   "mimetype": "text/x-python",
   "name": "python",
   "nbconvert_exporter": "python",
   "pygments_lexer": "ipython3",
   "version": "3.8.1"
  }
 },
 "nbformat": 4,
 "nbformat_minor": 4
}
