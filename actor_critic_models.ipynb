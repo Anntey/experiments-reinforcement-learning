{
 "cells": [
  {
   "cell_type": "markdown",
   "metadata": {},
   "source": [
    "## Advantage Actor-Critic (A2C)"
   ]
  },
  {
   "cell_type": "code",
   "execution_count": 100,
   "metadata": {},
   "outputs": [],
   "source": [
    "import gym\n",
    "import numpy as np\n",
    "import pandas as pd\n",
    "import matplotlib.pyplot as plt\n",
    "import torch\n",
    "from torch.nn import Linear\n",
    "from torch.nn import functional as F\n",
    "from torch.optim import Adam\n",
    "from torch.distributions import Categorical"
   ]
  },
  {
   "cell_type": "code",
   "execution_count": null,
   "metadata": {},
   "outputs": [],
   "source": [
    "env = gym.make('CartPole-v1')\n",
    "\n",
    "env.reset()"
   ]
  },
  {
   "cell_type": "code",
   "execution_count": 102,
   "metadata": {},
   "outputs": [],
   "source": [
    "class ActorCritic(nn.Module):\n",
    "    def __init__(self):\n",
    "        super(ActorCritic, self).__init__()\n",
    "        self.lin1 = Linear(4, 25)\n",
    "        self.lin2 = Linear(25, 50)\n",
    "        self.actor_lin1 = Linear(50, 2)\n",
    "        self.lin3 = Linear(50, 25)\n",
    "        self.critic_lin1 = Linear(25, 1)\n",
    "    \n",
    "    def forward(self, x):\n",
    "        # Policy network\n",
    "        x = F.normalize(x, dim = 0)\n",
    "        x = F.relu(self.lin1(x))\n",
    "        x = F.relu(self.lin2(x))\n",
    "        action_probs = F.log_softmax(self.actor_lin1(x), dim = 0)\n",
    "        # Critic\n",
    "        state_values = F.relu(self.lin3(x.detach()))\n",
    "        state_values = torch.tanh(self.critic_lin1(state_values))\n",
    "        return action_probs, state_values\n",
    "\n",
    "gpu = torch.device('cuda:0')    \n",
    "    \n",
    "actor_critic = ActorCritic().to(gpu)\n",
    "\n",
    "optimizer = Adam(actor_critic.parameters(), lr = 1e-4)"
   ]
  },
  {
   "cell_type": "code",
   "execution_count": 103,
   "metadata": {},
   "outputs": [],
   "source": [
    "def run_episode(env):\n",
    "    '''\n",
    "    Run one episode in environment with given model. Returns state values,\n",
    "    log probabilities and rewards from one episode.\n",
    "    '''\n",
    "    # Get current state\n",
    "    state = torch.from_numpy(np.array(env.state)).to(gpu, dtype = torch.float)\n",
    "    state_values = []\n",
    "    logprobs = []\n",
    "    rewards = []\n",
    "    finished = False\n",
    "    # ----------------- Episode starts -----------------\n",
    "    while finished == False:\n",
    "        # Compute action probabilities and state value\n",
    "        policy, state_value = actor_critic(state)\n",
    "        state_values.append(state_value)\n",
    "        # Select an action\n",
    "        action = Categorical(logits = policy.view(-1)).sample()\n",
    "        logprob = policy.view(-1)[action]\n",
    "        logprobs.append(logprob)\n",
    "        # Take the action\n",
    "        state_new, _, finished, _ = env.step(action.detach().cpu().numpy())\n",
    "        # Update state\n",
    "        state = torch.from_numpy(state_new).to(gpu, dtype = torch.float)\n",
    "        # Check if game was lost\n",
    "        if finished == True:\n",
    "            reward = -10\n",
    "            env.reset()\n",
    "        else:\n",
    "            reward = 1.0\n",
    "        rewards.append(reward)\n",
    "    # ----------------- Episode ends -----------------\n",
    "    return state_values, logprobs, rewards\n",
    "\n",
    "def update_params(state_values, logprobs, rewards, c_scale = 0.1, discount = 0.95):\n",
    "    '''\n",
    "    Updates model parameters based on one episode. Returns actor loss, critic loss\n",
    "    and length of episode. Scales critic loss by 0.1 because we want actor to learn\n",
    "    faster than critic.\n",
    "    '''\n",
    "    # Reverse order and flatten inputs\n",
    "    rewards = torch.Tensor(rewards).flip(dims = (0,)).view(-1)\n",
    "    logprobs = torch.stack(logprobs).flip(dims = (0,)).view(-1).to(gpu, dtype = torch.float)\n",
    "    state_values = torch.stack(state_values).flip(dims = (0,)).view(-1)\n",
    "    len_episode = len(rewards)\n",
    "    # Compute returns (discounted rewards)\n",
    "    returns = []\n",
    "    return_ = torch.Tensor([0])\n",
    "    for i in range(len(rewards)):\n",
    "        return_ = rewards[i] + discount * return_\n",
    "        returns.append(return_)\n",
    "    returns = torch.stack(returns).view(-1).to(gpu, dtype = torch.float)\n",
    "    returns = F.normalize(returns, dim = 0)\n",
    "    # Compute loss\n",
    "    actor_loss = -1 * logprobs * (returns - state_values.detach())\n",
    "    critic_loss = torch.pow(state_values - returns, 2) \n",
    "    loss = actor_loss.sum() + c_scale * critic_loss.sum()\n",
    "    # Update model parameters\n",
    "    optimizer.zero_grad()\n",
    "    loss.backward()\n",
    "    optimizer.step()   \n",
    "    return actor_loss, critic_loss, len_episode"
   ]
  },
  {
   "cell_type": "code",
   "execution_count": 104,
   "metadata": {},
   "outputs": [
    {
     "name": "stdout",
     "output_type": "stream",
     "text": [
      "Game: 0000 | Avg. game length: 19.00\n",
      "Game: 0500 | Avg. game length: 26.93\n",
      "Game: 1000 | Avg. game length: 35.79\n",
      "Game: 1500 | Avg. game length: 52.56\n",
      "Game: 2000 | Avg. game length: 76.90\n",
      "Game: 2500 | Avg. game length: 103.60\n",
      "Game: 3000 | Avg. game length: 130.46\n",
      "Game: 3500 | Avg. game length: 154.15\n"
     ]
    }
   ],
   "source": [
    "num_games = 4_000\n",
    "len_episodes = []\n",
    "losses_actor = []\n",
    "losses_critic = []\n",
    "\n",
    "for i_game in range(num_games):    \n",
    "    state_values, logprobs, rewards = run_episode(env)\n",
    "    actor_loss, critic_loss, episode_len = update_params(state_values, logprobs, rewards)\n",
    "    losses_actor.extend(actor_loss.detach().cpu().numpy())\n",
    "    losses_critic.extend(critic_loss.detach().cpu().numpy())\n",
    "    len_episodes.append(episode_len)\n",
    "    if i_game % 500 == 0:\n",
    "        print(f'Game: {i_game:04d} | Avg. game length: {np.mean(len_episodes):.2f}')"
   ]
  },
  {
   "cell_type": "code",
   "execution_count": 105,
   "metadata": {},
   "outputs": [
    {
     "data": {
      "image/png": "[encoded data removed]",
      "text/plain": [
       "<Figure size 432x288 with 1 Axes>"
      ]
     },
     "metadata": {
      "needs_background": "light"
     },
     "output_type": "display_data"
    }
   ],
   "source": [
    "len_episodes = pd.Series(len_episodes).rolling(100).mean()\n",
    "\n",
    "plt.plot(len_episodes)\n",
    "plt.ylabel('Episode duration')\n",
    "plt.xlabel('Games');"
   ]
  },
  {
   "cell_type": "code",
   "execution_count": 110,
   "metadata": {},
   "outputs": [
    {
     "data": {
      "image/png": "[encoded data removed]",
      "text/plain": [
       "<Figure size 432x288 with 1 Axes>"
      ]
     },
     "metadata": {
      "needs_background": "light"
     },
     "output_type": "display_data"
    }
   ],
   "source": [
    "losses_actor = pd.Series(losses_actor).rolling(50_000).mean()\n",
    "losses_critic = pd.Series(losses_critic).rolling(50_000).mean()\n",
    "\n",
    "plt.plot(losses_actor)\n",
    "plt.plot(losses_critic)\n",
    "plt.ylabel('Loss')\n",
    "plt.xlabel('Steps')\n",
    "plt.legend(['Actor', 'Critic'], loc = 'upper right');"
   ]
  },
  {
   "cell_type": "code",
   "execution_count": 119,
   "metadata": {},
   "outputs": [
    {
     "name": "stdout",
     "output_type": "stream",
     "text": [
      "Lost\n",
      "Lost\n"
     ]
    }
   ],
   "source": [
    "env.reset()\n",
    "for i in range(1_000):\n",
    "    state = torch.from_numpy(np.array(env.state)).to(gpu, dtype = torch.float)\n",
    "    logits, value = actor_critic(state)\n",
    "    action = torch.distributions.Categorical(logits = logits).sample()\n",
    "    _, _, finished, _ = env.step(action.detach().cpu().numpy())\n",
    "    if finished == True:\n",
    "        print(\"Lost\")\n",
    "        env.reset()\n",
    "    state_new = np.array(env.state)\n",
    "    state = torch.from_numpy(state_new).float()\n",
    "    env.render()"
   ]
  },
  {
   "cell_type": "code",
   "execution_count": 120,
   "metadata": {},
   "outputs": [],
   "source": [
    "env.close()"
   ]
  },
  {
   "cell_type": "markdown",
   "metadata": {},
   "source": [
    "## N-step Actor-Critic"
   ]
  },
  {
   "cell_type": "code",
   "execution_count": 201,
   "metadata": {},
   "outputs": [],
   "source": [
    "def run_episode(env, n_steps = 10):\n",
    "    '''\n",
    "    Run one episode in environment with given model. Returns state values,\n",
    "    log probabilities and rewards from one episode. Runs only for N steps\n",
    "    at most.\n",
    "    '''\n",
    "    # Get current state\n",
    "    state = torch.from_numpy(np.array(env.state)).to(gpu, dtype = torch.float)\n",
    "    state_values = []\n",
    "    logprobs = []\n",
    "    rewards = []\n",
    "    return_last = torch.Tensor([0])\n",
    "    finished = False\n",
    "    i_step = 0  \n",
    "    while i_step < n_steps and finished == False:\n",
    "        i_step += 1\n",
    "        # Compute action probabilities and state value\n",
    "        policy, state_value = actor_critic(state)\n",
    "        state_values.append(state_value)\n",
    "        # Select action\n",
    "        action = Categorical(logits = policy.view(-1)).sample()\n",
    "        # Take action\n",
    "        logprob = policy.view(-1)[action]\n",
    "        logprobs.append(logprob)\n",
    "        state_new, _, finished, _ = env.step(action.detach().cpu().numpy())\n",
    "        # Update state\n",
    "        state = torch.from_numpy(state_new).to(gpu, dtype = torch.float)\n",
    "        # Check if game was lost\n",
    "        if finished == True:\n",
    "            reward = -10\n",
    "            env.reset()\n",
    "        # If not finished, set return to last value\n",
    "        else:\n",
    "            reward = 1.0\n",
    "            return_last = state_value.detach()\n",
    "        rewards.append(reward)\n",
    "    return state_values, logprobs, rewards, return_last\n",
    "\n",
    "def update_params(state_values, logprobs, rewards, return_last, c_scale = 0.1, discount = 0.95):\n",
    "    '''\n",
    "    Updates model parameters based on one episode. Returns actor loss, critic loss\n",
    "    and length of episode. Scales critic loss by 0.1 because we want actor to learn\n",
    "    faster than critic.\n",
    "    '''\n",
    "    # Reverse order and flatten inputs\n",
    "    rewards = torch.Tensor(rewards).flip(dims = (0,)).view(-1)\n",
    "    logprobs = torch.stack(logprobs).flip(dims = (0,)).view(-1).to(gpu, dtype = torch.float)\n",
    "    state_values = torch.stack(state_values).flip(dims = (0,)).view(-1)\n",
    "    len_episode = len(rewards)\n",
    "    # Compute returns (discounted rewards)\n",
    "    returns = []\n",
    "    return_ = return_last\n",
    "    for i in range(len(rewards)):\n",
    "        return_ = rewards[i] + discount * return_\n",
    "        returns.append(return_)\n",
    "    returns = torch.stack(returns).view(-1).to(gpu, dtype = torch.float)\n",
    "    returns = F.normalize(returns, dim = 0)\n",
    "    # Compute loss\n",
    "    actor_loss = -1 * logprobs * (returns - state_values.detach())\n",
    "    critic_loss = torch.pow(state_values - returns, 2) \n",
    "    loss = actor_loss.sum() + c_scale * critic_loss.sum()\n",
    "    # Update model parameters\n",
    "    #optimizer.zero_grad()\n",
    "    loss.backward()\n",
    "    optimizer.step()   \n",
    "    return actor_loss, critic_loss, len_episode\n",
    "\n",
    "def evaluate():\n",
    "    '''\n",
    "    Tests current model in a test environment. Returns number of steps taken before losing.\n",
    "    '''\n",
    "    test_env = gym.make(\"CartPole-v1\")\n",
    "    test_env.reset()\n",
    "    num_steps = 0\n",
    "    finished = False\n",
    "    state = torch.from_numpy(np.array(test_env.state)).to(gpu, dtype = torch.float)\n",
    "    while(finished == False):\n",
    "        policy, state_value = actor_critic(state)\n",
    "        action = Categorical(logits = policy.view(-1)).sample().detach().cpu().numpy()\n",
    "        state_new, _, finished, _ = test_env.step(action)\n",
    "        state = torch.from_numpy(state_new).to(gpu, dtype = torch.float)\n",
    "        num_steps += 1\n",
    "    test_env.close()\n",
    "    return num_steps"
   ]
  },
  {
   "cell_type": "code",
   "execution_count": 202,
   "metadata": {},
   "outputs": [],
   "source": [
    "env.reset()\n",
    "\n",
    "actor_critic = ActorCritic().to(gpu)\n",
    "\n",
    "optimizer = Adam(actor_critic.parameters(), lr = 1e-4)"
   ]
  },
  {
   "cell_type": "code",
   "execution_count": 203,
   "metadata": {},
   "outputs": [
    {
     "name": "stdout",
     "output_type": "stream",
     "text": [
      "Game: 0000 | Avg. game length: 17.00\n",
      "Game: 10000 | Avg. game length: 129.34\n",
      "Game: 20000 | Avg. game length: 364.19\n",
      "Game: 30000 | Avg. game length: 426.92\n",
      "Game: 40000 | Avg. game length: 443.58\n"
     ]
    }
   ],
   "source": [
    "num_games = 50_000\n",
    "len_episodes = []\n",
    "losses_actor = []\n",
    "losses_critic = []\n",
    "maxrun = 1\n",
    "\n",
    "for i_game in range(num_games):   \n",
    "    optimizer.zero_grad()\n",
    "    state_values, logprobs, rewards, return_last = run_episode(env)\n",
    "    actor_loss, critic_loss, episode_len = update_params(state_values, logprobs, rewards, return_last)\n",
    "    losses_actor.extend(actor_loss.detach().cpu().numpy())\n",
    "    losses_critic.extend(critic_loss.detach().cpu().numpy())\n",
    "    if i_game % 50 == 0:\n",
    "        len_episode = evaluate()\n",
    "        len_episodes.append(len_episode)\n",
    "    if i_game % 10_000 == 0:\n",
    "        print(f'Game: {i_game:04d} | Avg. game length: {np.mean(len_episodes[-200:]):.2f}')"
   ]
  },
  {
   "cell_type": "code",
   "execution_count": 214,
   "metadata": {},
   "outputs": [
    {
     "data": {
      "image/png": "[encoded data removed]",
      "text/plain": [
       "<Figure size 432x288 with 1 Axes>"
      ]
     },
     "metadata": {
      "needs_background": "light"
     },
     "output_type": "display_data"
    }
   ],
   "source": [
    "len_episodes_ = pd.Series(len_episodes).rolling(25).mean()\n",
    "\n",
    "plt.plot(range(0, 50_000, 50), len_episodes_)\n",
    "plt.ylabel('Episode duration')\n",
    "plt.xlabel('Games');"
   ]
  },
  {
   "cell_type": "code",
   "execution_count": 220,
   "metadata": {},
   "outputs": [
    {
     "data": {
      "image/png": "[encoded data removed]",
      "text/plain": [
       "<Figure size 432x288 with 1 Axes>"
      ]
     },
     "metadata": {
      "needs_background": "light"
     },
     "output_type": "display_data"
    }
   ],
   "source": [
    "losses_actor = pd.Series(losses_actor).rolling(10_000).mean()\n",
    "losses_critic = pd.Series(losses_critic).rolling(10_000).mean()\n",
    "\n",
    "plt.plot(losses_actor)\n",
    "plt.plot(losses_critic)\n",
    "plt.ylabel('Loss')\n",
    "plt.xlabel('Steps')\n",
    "plt.legend(['Actor', 'Critic'], loc = 'upper right');"
   ]
  },
  {
   "cell_type": "code",
   "execution_count": 217,
   "metadata": {},
   "outputs": [
    {
     "name": "stdout",
     "output_type": "stream",
     "text": [
      "Lost 456\n",
      "Lost 413\n"
     ]
    }
   ],
   "source": [
    "env.reset()\n",
    "steps_taken = 0\n",
    "\n",
    "for i in range(1_000):\n",
    "    state = torch.from_numpy(np.array(env.state)).to(gpu, dtype = torch.float)\n",
    "    logits, value = actor_critic(state)\n",
    "    action = torch.distributions.Categorical(logits = logits).sample()\n",
    "    _, _, finished, _ = env.step(action.detach().cpu().numpy())\n",
    "    steps_taken += 1\n",
    "    if finished == True:\n",
    "        print('Lost', steps_taken)\n",
    "        steps_taken = 0\n",
    "        env.reset()\n",
    "    state_new = np.array(env.state)\n",
    "    state = torch.from_numpy(state_new).float()\n",
    "    env.render()\n",
    "    \n",
    "env.close()"
   ]
  }
 ],
 "metadata": {
  "kernelspec": {
   "display_name": "Python 3",
   "language": "python",
   "name": "python3"
  },
  "language_info": {
   "codemirror_mode": {
    "name": "ipython",
    "version": 3
   },
   "file_extension": ".py",
   "mimetype": "text/x-python",
   "name": "python",
   "nbconvert_exporter": "python",
   "pygments_lexer": "ipython3",
   "version": "3.8.1"
  }
 },
 "nbformat": 4,
 "nbformat_minor": 4
}
