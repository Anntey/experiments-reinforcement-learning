{
 "cells": [
  {
   "cell_type": "code",
   "execution_count": 1,
   "metadata": {},
   "outputs": [],
   "source": [
    "import copy\n",
    "import time\n",
    "import random\n",
    "import numpy as np\n",
    "import pandas as pd\n",
    "import matplotlib.pyplot as plt\n",
    "import torch\n",
    "from collections import deque\n",
    "from IPython.display import clear_output\n",
    "from torch.nn import Sequential, Linear, ReLU, MSELoss\n",
    "from torch.optim import Adam\n",
    "from Gridworld import Gridworld"
   ]
  },
  {
   "cell_type": "code",
   "execution_count": 9,
   "metadata": {},
   "outputs": [
    {
     "data": {
      "text/plain": [
       "array([['+', '-', ' ', 'P'],\n",
       "       [' ', 'W', ' ', ' '],\n",
       "       [' ', ' ', ' ', ' '],\n",
       "       [' ', ' ', ' ', ' ']], dtype='<U2')"
      ]
     },
     "execution_count": 9,
     "metadata": {},
     "output_type": "execute_result"
    }
   ],
   "source": [
    "game = Gridworld(size = 4, mode = 'static')\n",
    "\n",
    "game.display()"
   ]
  },
  {
   "cell_type": "code",
   "execution_count": 3,
   "metadata": {},
   "outputs": [
    {
     "data": {
      "text/plain": [
       "array([['+', '-', ' ', ' '],\n",
       "       [' ', 'W', ' ', ' '],\n",
       "       [' ', ' ', 'P', ' '],\n",
       "       [' ', ' ', ' ', ' ']], dtype='<U2')"
      ]
     },
     "execution_count": 3,
     "metadata": {},
     "output_type": "execute_result"
    }
   ],
   "source": [
    "game.makeMove('d')\n",
    "game.makeMove('d')\n",
    "game.makeMove('l')\n",
    "game.display()"
   ]
  },
  {
   "cell_type": "code",
   "execution_count": 4,
   "metadata": {},
   "outputs": [
    {
     "data": {
      "text/plain": [
       "array([[[0, 0, 0, 0],\n",
       "        [0, 0, 0, 0],\n",
       "        [0, 0, 1, 0],\n",
       "        [0, 0, 0, 0]],\n",
       "\n",
       "       [[1, 0, 0, 0],\n",
       "        [0, 0, 0, 0],\n",
       "        [0, 0, 0, 0],\n",
       "        [0, 0, 0, 0]],\n",
       "\n",
       "       [[0, 1, 0, 0],\n",
       "        [0, 0, 0, 0],\n",
       "        [0, 0, 0, 0],\n",
       "        [0, 0, 0, 0]],\n",
       "\n",
       "       [[0, 0, 0, 0],\n",
       "        [0, 1, 0, 0],\n",
       "        [0, 0, 0, 0],\n",
       "        [0, 0, 0, 0]]], dtype=uint8)"
      ]
     },
     "execution_count": 4,
     "metadata": {},
     "output_type": "execute_result"
    }
   ],
   "source": [
    "game.board.render_np()"
   ]
  },
  {
   "cell_type": "code",
   "execution_count": 2,
   "metadata": {},
   "outputs": [],
   "source": [
    "GPU = torch.device(\"cuda:0\")\n",
    "DIM_INPUT = 4*4*4\n",
    "DIM_HIDDEN_1 = 150\n",
    "DIM_HIDDEN_2 = 100\n",
    "DIM_OUTPUT = 4\n",
    "LR = 1e-3\n",
    "GAMMA = 0.9\n",
    "EPSILON = 1.0\n",
    "\n",
    "action_set = {\n",
    "    0: 'u',\n",
    "    1: 'd',\n",
    "    2: 'l',\n",
    "    3: 'r',\n",
    "}"
   ]
  },
  {
   "cell_type": "code",
   "execution_count": 3,
   "metadata": {},
   "outputs": [],
   "source": [
    "def get_state(game):\n",
    "    return game.board.render_np().reshape(1, DIM_INPUT)\n",
    "\n",
    "def noise(scale):\n",
    "    return np.random.rand(1, DIM_INPUT) / scale"
   ]
  },
  {
   "cell_type": "code",
   "execution_count": 10,
   "metadata": {},
   "outputs": [],
   "source": [
    "model = Sequential(\n",
    "    Linear(DIM_INPUT, DIM_HIDDEN_1),\n",
    "    ReLU(),\n",
    "    Linear(DIM_HIDDEN_1, DIM_HIDDEN_2),\n",
    "    ReLU(),\n",
    "    Linear(DIM_HIDDEN_2, DIM_OUTPUT)\n",
    ")\n",
    "\n",
    "model = model.to(GPU)\n",
    "\n",
    "loss_funct = MSELoss(reduction = 'mean')\n",
    "optimizer = Adam(model.parameters(), lr = LR)"
   ]
  },
  {
   "cell_type": "code",
   "execution_count": 22,
   "metadata": {},
   "outputs": [
    {
     "name": "stdout",
     "output_type": "stream",
     "text": [
      "Epoch: 000 | Loss: 7.1468\n",
      "Epoch: 100 | Loss: 0.0149\n",
      "Epoch: 200 | Loss: 0.0067\n",
      "Epoch: 300 | Loss: 0.3283\n",
      "Epoch: 400 | Loss: 0.0006\n",
      "Epoch: 500 | Loss: 0.0021\n",
      "Epoch: 600 | Loss: 0.0025\n",
      "Epoch: 700 | Loss: 0.0718\n",
      "Epoch: 800 | Loss: 0.0096\n",
      "Epoch: 900 | Loss: 0.0089\n"
     ]
    }
   ],
   "source": [
    "num_epochs = 1000\n",
    "losses = []\n",
    "len_games = []\n",
    "\n",
    "for i_epoch in range(num_epochs):\n",
    "    # For each epoch, start a new game\n",
    "    game = Gridworld(size = 4, mode = 'static')\n",
    "    actions_taken = 0\n",
    "    # Get state as (1, 64) vector and add noise (0...0.1)\n",
    "    state_ = get_state(game) + noise(10.0) \n",
    "    state = torch.from_numpy(state_)\n",
    "    state = state.to(GPU, dtype = torch.float)\n",
    "    # Is game still in progress or not\n",
    "    game_in_progress = True\n",
    "    # If in progress, play a game to completion\n",
    "    while(game_in_progress == True):\n",
    "        # Predict q-values for all the actions with Q-network\n",
    "        q_val = model(state)\n",
    "        q_val_np = q_val.cpu().data.numpy()\n",
    "        # Select action using epsilon-greedy method\n",
    "        if (random.random() < EPSILON):\n",
    "            action = np.random.randint(0,4)\n",
    "        else:\n",
    "            action = np.argmax(q_val_np)       \n",
    "        action_key = action_set[action]\n",
    "        game.makeMove(action_key)\n",
    "        actions_taken += 1\n",
    "        # Get new state from game\n",
    "        new_state_np = get_state(game) + noise(10.0)\n",
    "        new_state = torch.from_numpy(new_state_np).to(GPU, dtype = torch.float)\n",
    "        # Get reward\n",
    "        reward = game.reward()\n",
    "        # Find maximum q-value predicted from new state\n",
    "        with torch.no_grad():\n",
    "            q_target = model(new_state).cpu().data.numpy()\n",
    "        q_max = np.max(q_target)\n",
    "        # Calculate updated q-value using Q-learning algorithm\n",
    "        if reward == -1:\n",
    "            q_updated = (reward + (GAMMA * q_max))\n",
    "        else:\n",
    "            q_updated = reward\n",
    "        # Update the q-value corresponding to the action that was chosen\n",
    "        y = q_val_np\n",
    "        y[0, action] = q_updated\n",
    "        y = torch.from_numpy(y).to(GPU, dtype = torch.float)\n",
    "        # Calucate loss\n",
    "        loss = loss_funct(q_val, y)\n",
    "        optimizer.zero_grad()\n",
    "        loss.backward()\n",
    "        losses.append(loss.item())\n",
    "        # Update model parameters\n",
    "        optimizer.step()\n",
    "        # Update state to new state\n",
    "        state = new_state\n",
    "        # Check if game was run to completion (Goal: 10 | Pit: -10 | Else: -1)\n",
    "        if reward != -1:\n",
    "            game_in_progress = False\n",
    "    # Print progress\n",
    "    if i_epoch % 100 == 0:\n",
    "        print(f'Epoch: {i_epoch:03d} | Loss: {loss.item():.4f}')\n",
    "    # Save length of game\n",
    "    len_games.append(actions_taken)\n",
    "    # Decrease epsilon after each epoch\n",
    "    if EPSILON > 0.1:\n",
    "        EPSILON = EPSILON - (1 / num_epochs)"
   ]
  },
  {
   "cell_type": "code",
   "execution_count": 23,
   "metadata": {},
   "outputs": [
    {
     "data": {
      "image/png": "[encoded data removed]",
      "text/plain": [
       "<Figure size 432x288 with 1 Axes>"
      ]
     },
     "metadata": {
      "needs_background": "light"
     },
     "output_type": "display_data"
    }
   ],
   "source": [
    "losses = pd.Series(losses)\n",
    "losses = losses.rolling(300).mean()\n",
    "\n",
    "plt.plot(losses);"
   ]
  },
  {
   "cell_type": "code",
   "execution_count": 24,
   "metadata": {},
   "outputs": [
    {
     "data": {
      "image/png": "[encoded data removed]",
      "text/plain": [
       "<Figure size 432x288 with 1 Axes>"
      ]
     },
     "metadata": {
      "needs_background": "light"
     },
     "output_type": "display_data"
    }
   ],
   "source": [
    "len_games = pd.Series(len_games)\n",
    "len_games = len_games.rolling(150).mean()\n",
    "\n",
    "plt.plot(len_games);"
   ]
  },
  {
   "cell_type": "code",
   "execution_count": 70,
   "metadata": {},
   "outputs": [],
   "source": [
    "def test_model(model, mode = 'static'):\n",
    "    actions_taken = 0\n",
    "    test_game = Gridworld(mode = mode)\n",
    "    state_np = get_state(test_game) + noise(10.0)\n",
    "    state = torch.from_numpy(state_np).to(GPU, dtype = torch.float)\n",
    "    \n",
    "    print(\"Initial State:\")\n",
    "    print(test_game.display())\n",
    "    \n",
    "    game_in_progress = True\n",
    "    while(game_in_progress == True):\n",
    "        with torch.no_grad():\n",
    "            q_val = model(state)\n",
    "        qval_np = q_val.cpu().data.numpy()\n",
    "        action_ = np.argmax(qval_np)\n",
    "        action_key = action_set[action_]\n",
    "        \n",
    "        print(f'Move {actions_taken}, Taking action: {action_key}')\n",
    "        \n",
    "        test_game.makeMove(action_key)\n",
    "        state_np = get_state(test_game) + noise(10.0)\n",
    "        state = torch.from_numpy(state_np).to(GPU, dtype = torch.float)\n",
    "        \n",
    "        print(test_game.display())\n",
    "        \n",
    "        reward = test_game.reward()\n",
    "        if reward != -1:\n",
    "            game_in_progress = False\n",
    "            print(f'Reward: {reward}')\n",
    "        \n",
    "        actions_taken += 1\n",
    "        \n",
    "        if (actions_taken > 15):\n",
    "            print(\"Game lost; too many moves.\")\n",
    "            break"
   ]
  },
  {
   "cell_type": "code",
   "execution_count": 29,
   "metadata": {},
   "outputs": [
    {
     "name": "stdout",
     "output_type": "stream",
     "text": [
      "Initial State:\n",
      "[['+' '-' ' ' 'P']\n",
      " [' ' 'W' ' ' ' ']\n",
      " [' ' ' ' ' ' ' ']\n",
      " [' ' ' ' ' ' ' ']]\n",
      "Move 0, Taking action: l\n",
      "[['+' '-' 'P' ' ']\n",
      " [' ' 'W' ' ' ' ']\n",
      " [' ' ' ' ' ' ' ']\n",
      " [' ' ' ' ' ' ' ']]\n",
      "Move 1, Taking action: d\n",
      "[['+' '-' ' ' ' ']\n",
      " [' ' 'W' 'P' ' ']\n",
      " [' ' ' ' ' ' ' ']\n",
      " [' ' ' ' ' ' ' ']]\n",
      "Move 2, Taking action: d\n",
      "[['+' '-' ' ' ' ']\n",
      " [' ' 'W' ' ' ' ']\n",
      " [' ' ' ' 'P' ' ']\n",
      " [' ' ' ' ' ' ' ']]\n",
      "Move 3, Taking action: l\n",
      "[['+' '-' ' ' ' ']\n",
      " [' ' 'W' ' ' ' ']\n",
      " [' ' 'P' ' ' ' ']\n",
      " [' ' ' ' ' ' ' ']]\n",
      "Move 4, Taking action: l\n",
      "[['+' '-' ' ' ' ']\n",
      " [' ' 'W' ' ' ' ']\n",
      " ['P' ' ' ' ' ' ']\n",
      " [' ' ' ' ' ' ' ']]\n",
      "Move 5, Taking action: u\n",
      "[['+' '-' ' ' ' ']\n",
      " ['P' 'W' ' ' ' ']\n",
      " [' ' ' ' ' ' ' ']\n",
      " [' ' ' ' ' ' ' ']]\n",
      "Move 6, Taking action: u\n",
      "[['+' '-' ' ' ' ']\n",
      " [' ' 'W' ' ' ' ']\n",
      " [' ' ' ' ' ' ' ']\n",
      " [' ' ' ' ' ' ' ']]\n",
      "Reward: 10\n"
     ]
    }
   ],
   "source": [
    "test_model(model, 'static')"
   ]
  },
  {
   "cell_type": "markdown",
   "metadata": {},
   "source": [
    "## Experience replay"
   ]
  },
  {
   "cell_type": "code",
   "execution_count": 9,
   "metadata": {},
   "outputs": [],
   "source": [
    "model = Sequential(\n",
    "    Linear(DIM_INPUT, DIM_HIDDEN_1),\n",
    "    ReLU(),\n",
    "    Linear(DIM_HIDDEN_1, DIM_HIDDEN_2),\n",
    "    ReLU(),\n",
    "    Linear(DIM_HIDDEN_2, DIM_OUTPUT)\n",
    ")\n",
    "\n",
    "model = model.to(GPU)\n",
    "\n",
    "loss_funct = MSELoss(reduction = 'mean')\n",
    "optimizer = Adam(model.parameters(), lr = LR)"
   ]
  },
  {
   "cell_type": "code",
   "execution_count": 10,
   "metadata": {},
   "outputs": [
    {
     "name": "stdout",
     "output_type": "stream",
     "text": [
      "Epoch: 0000 | Loss: 0.14900\n",
      "Epoch: 0500 | Loss: 0.16060\n",
      "Epoch: 1000 | Loss: 0.07001\n",
      "Epoch: 1500 | Loss: 0.19239\n",
      "Epoch: 2000 | Loss: 0.15441\n",
      "Epoch: 2500 | Loss: 0.06417\n",
      "Epoch: 3000 | Loss: 0.08093\n",
      "Epoch: 3500 | Loss: 0.09108\n",
      "Epoch: 4000 | Loss: 0.16263\n",
      "Epoch: 4500 | Loss: 0.07381\n"
     ]
    }
   ],
   "source": [
    "GAMMA = 0.9\n",
    "EPSILON = 0.3\n",
    "num_epochs = 5_000\n",
    "max_actions = 50\n",
    "batch_size = 200\n",
    "replay_buffer_size = 1_000\n",
    "replay_buffer = deque(maxlen = replay_buffer_size)\n",
    "losses = []\n",
    "\n",
    "for i_epoch in range(num_epochs):\n",
    "    # Create game and get state with noise added\n",
    "    game = Gridworld(size = 4, mode = 'random')\n",
    "    state_np = get_state(game) + noise(100.0)\n",
    "    state = torch.from_numpy(state_np).to(GPU, dtype = torch.float)\n",
    "    actions_taken = 0\n",
    "    game_in_progress = True\n",
    "    # ------------------ Game begins ------------------\n",
    "    while(game_in_progress == True):\n",
    "        q_val = model(state)\n",
    "        q_val_np = q_val.cpu().data.numpy()\n",
    "        # Select action according to epsilon-greedy method\n",
    "        if (random.random() < EPSILON):\n",
    "            action = np.random.randint(0, 4)\n",
    "        else:\n",
    "            action = np.argmax(q_val_np)\n",
    "        action_key = action_set[action]\n",
    "        game.makeMove(action_key)\n",
    "        actions_taken += 1\n",
    "        # Get new state\n",
    "        new_state_np = get_state(game) + noise(100.0)\n",
    "        new_state = torch.from_numpy(new_state_np).to(GPU, dtype = torch.float)\n",
    "        # Get reward\n",
    "        reward = game.reward()\n",
    "        # if the game is over after taking action, the target just becomes the reward\n",
    "        if reward == 10 or reward == -10:\n",
    "            done = True\n",
    "        else:\n",
    "            done = False\n",
    "        # Add (s, a, r, s', d) tuple to experiences\n",
    "        experience = (state, action, reward, new_state, done)\n",
    "        replay_buffer.append(experience)\n",
    "        # Update state\n",
    "        state = new_state\n",
    "        # If buffer full, start minibatch training\n",
    "        if len(replay_buffer) > batch_size:           \n",
    "            # Take a random minibatch from replay buffer to train model on\n",
    "            batch = random.sample(replay_buffer, batch_size)\n",
    "            # Separate the tuple\n",
    "            state_b = torch.cat([s for (s, a, r, s_n, d) in batch]).to(GPU, dtype = torch.float)\n",
    "            action_b = torch.Tensor([a for (s, a, r, s_n, d) in batch]).to(GPU, dtype = torch.float)\n",
    "            reward_b = torch.Tensor([r for (s, a, r, s_n, d) in batch]).to(GPU, dtype = torch.float)\n",
    "            new_state_b = torch.cat([s_n for (s, a, r, s_n, d) in batch]).to(GPU, dtype = torch.float)\n",
    "            done_b = torch.Tensor([d for (s, a, r, s_n, d) in batch]).to(GPU, dtype = torch.float)\n",
    "            # Re-compute q-values for states minibatch to get gradient\n",
    "            q_b = model(state_b)\n",
    "            # Compute next state but no gradient\n",
    "            with torch.no_grad():\n",
    "                q_new_b = model(new_state_b)\n",
    "            # Calculate updated q-value using Q-learning algorithm\n",
    "            q_targets_b = reward_b + GAMMA * ((1 - done_b) * torch.max(q_new_b, dim = 1)[0])\n",
    "            # Update the q-value corresponding to the action that was chosen \n",
    "            q_preds_b = q_b.gather(dim = 1, index = action_b.long().unsqueeze(dim = 1)).squeeze()\n",
    "            # Calculate minibatch loss\n",
    "            loss_b = loss_funct(q_preds_b, q_targets_b.detach())\n",
    "            optimizer.zero_grad()\n",
    "            loss_b.backward()\n",
    "            losses.append(loss_b.item())\n",
    "            # Update model parameters\n",
    "            optimizer.step()\n",
    "        # Check if game was run to completion or max_actions was exceeded\n",
    "        if reward != -1 or actions_taken > max_actions:\n",
    "            game_in_progress = False\n",
    "            actions_taken = 0 \n",
    "    # ------------------ Game ends ------------------\n",
    "    # Print progress\n",
    "    if i_epoch % 500 == 0:\n",
    "        print(f'Epoch: {i_epoch:04d} | Loss: {loss_b.item():.5f}')"
   ]
  },
  {
   "cell_type": "code",
   "execution_count": 11,
   "metadata": {},
   "outputs": [
    {
     "data": {
      "image/png": "[encoded data removed]",
      "text/plain": [
       "<Figure size 432x288 with 1 Axes>"
      ]
     },
     "metadata": {
      "needs_background": "light"
     },
     "output_type": "display_data"
    }
   ],
   "source": [
    "losses = pd.Series(losses)\n",
    "losses = losses.rolling(300).mean()\n",
    "\n",
    "plt.plot(losses);"
   ]
  },
  {
   "cell_type": "code",
   "execution_count": 12,
   "metadata": {},
   "outputs": [],
   "source": [
    "def test_model(model, mode = 'random'):\n",
    "    result = True\n",
    "    actions_taken = 0\n",
    "    test_game = Gridworld(mode = mode)\n",
    "    state_np = get_state(test_game) + noise(100.0)\n",
    "    state = torch.from_numpy(state_np).to(GPU, dtype = torch.float)\n",
    "    game_in_progress = True\n",
    "    while(game_in_progress == True):\n",
    "        with torch.no_grad():\n",
    "            q_val = model(state)\n",
    "        qval_np = q_val.cpu().data.numpy()\n",
    "        action = np.argmax(qval_np)\n",
    "        action_key = action_set[action]      \n",
    "        test_game.makeMove(action_key)\n",
    "        actions_taken += 1\n",
    "        if (actions_taken > 15):\n",
    "            result = False\n",
    "            break\n",
    "        state_np = get_state(test_game) + noise(100.0)\n",
    "        state = torch.from_numpy(state_np).to(GPU, dtype = torch.float)        \n",
    "        reward = test_game.reward()\n",
    "        if reward == -10:\n",
    "            game_in_progress = False\n",
    "            result = False\n",
    "        elif reward == 10:\n",
    "            game_in_progress = False\n",
    "            result = True\n",
    "        elif reward == -1:\n",
    "            game_in_progress = True\n",
    "    return result"
   ]
  },
  {
   "cell_type": "code",
   "execution_count": 13,
   "metadata": {},
   "outputs": [
    {
     "name": "stdout",
     "output_type": "stream",
     "text": [
      "Win percentage: 0.827\n"
     ]
    }
   ],
   "source": [
    "wins = []\n",
    "\n",
    "for i in range(1000):\n",
    "    res = test_model(model)\n",
    "    wins.append(res)\n",
    "    \n",
    "print(f'Win percentage: {np.mean(wins)}')"
   ]
  },
  {
   "cell_type": "markdown",
   "metadata": {},
   "source": [
    "## Target network"
   ]
  },
  {
   "cell_type": "code",
   "execution_count": 16,
   "metadata": {},
   "outputs": [],
   "source": [
    "model = Sequential(\n",
    "    Linear(DIM_INPUT, DIM_HIDDEN_1),\n",
    "    ReLU(),\n",
    "    Linear(DIM_HIDDEN_1, DIM_HIDDEN_2),\n",
    "    ReLU(),\n",
    "    Linear(DIM_HIDDEN_2, DIM_OUTPUT)\n",
    ")\n",
    "\n",
    "model = model.to(GPU)\n",
    "\n",
    "model_target = copy.deepcopy(model)\n",
    "model_target.load_state_dict(model.state_dict())\n",
    "model_target.to(GPU)\n",
    "\n",
    "loss_funct = MSELoss(reduction = 'mean')\n",
    "#loss_funct_target = MSELoss(reduction = 'mean')\n",
    "\n",
    "optimizer = Adam(model.parameters(), lr = LR)\n",
    "#optimizer_target = Adam(model_target.parameters(), lr = LR)"
   ]
  },
  {
   "cell_type": "code",
   "execution_count": 17,
   "metadata": {},
   "outputs": [
    {
     "name": "stdout",
     "output_type": "stream",
     "text": [
      "Epoch: 0000 | Loss: 0.08044 | Approx. time left: 0.096 min\n",
      "Epoch: 0500 | Loss: 0.40114 | Approx. time left: 3.268 min\n",
      "Epoch: 1000 | Loss: 1.15468 | Approx. time left: 2.529 min\n",
      "Epoch: 1500 | Loss: 0.93117 | Approx. time left: 1.870 min\n",
      "Epoch: 2000 | Loss: 0.57463 | Approx. time left: 1.432 min\n",
      "Epoch: 2500 | Loss: 0.46445 | Approx. time left: 1.077 min\n",
      "Epoch: 3000 | Loss: 0.84980 | Approx. time left: 0.795 min\n",
      "Epoch: 3500 | Loss: 0.54817 | Approx. time left: 0.561 min\n",
      "Epoch: 4000 | Loss: 0.40526 | Approx. time left: 0.354 min\n",
      "Epoch: 4500 | Loss: 0.36527 | Approx. time left: 0.168 min\n"
     ]
    }
   ],
   "source": [
    "num_epochs = 5_000\n",
    "max_actions = 50\n",
    "batch_size = 200\n",
    "replay_buffer_size = 1_000\n",
    "replay_buffer = deque(maxlen = replay_buffer_size)\n",
    "sync_freq = 50\n",
    "losses = []\n",
    "game_times = []\n",
    "\n",
    "for i_epoch in range(num_epochs):\n",
    "    game = Gridworld(size = 4, mode = 'random')\n",
    "    state_np = get_state(game) + noise(100.0)\n",
    "    state = torch.from_numpy(state_np).to(GPU, dtype = torch.float)\n",
    "    actions_taken = 0\n",
    "    time_start = time.time()\n",
    "    game_in_progress = True\n",
    "    # ------------------ Game begins ------------------\n",
    "    while(game_in_progress == True):\n",
    "        # Copy model parameters to target network\n",
    "        if i_epoch % sync_freq == 0:           \n",
    "            model_target.load_state_dict(model.state_dict())    \n",
    "        q_val = model(state)\n",
    "        q_val_np = q_val.cpu().data.numpy()\n",
    "        if (random.random() < EPSILON):\n",
    "            action = np.random.randint(0, 4)\n",
    "        else:\n",
    "            action = np.argmax(q_val_np)\n",
    "        action_key = action_set[action]\n",
    "        game.makeMove(action_key)\n",
    "        actions_taken += 1\n",
    "        new_state_np = get_state(game) + noise(100.0)\n",
    "        new_state = torch.from_numpy(new_state_np).to(GPU, dtype = torch.float)\n",
    "        reward = game.reward()\n",
    "        if reward == 10 or reward == -10:\n",
    "            done = True\n",
    "        else:\n",
    "            done = False\n",
    "        experience = (state, action, reward, new_state, done)\n",
    "        replay_buffer.append(experience)\n",
    "        state = new_state\n",
    "        # ------------------ Experience replay begins ------------------\n",
    "        if len(replay_buffer) > batch_size:           \n",
    "            # Take a random minibatch from replay buffer to train model on\n",
    "            batch = random.sample(replay_buffer, batch_size)\n",
    "            # Separate the tuple\n",
    "            state_b = torch.cat([s for (s, a, r, s_n, d) in batch]).to(GPU, dtype = torch.float)\n",
    "            action_b = torch.Tensor([a for (s, a, r, s_n, d) in batch]).to(GPU, dtype = torch.float)\n",
    "            reward_b = torch.Tensor([r for (s, a, r, s_n, d) in batch]).to(GPU, dtype = torch.float)\n",
    "            new_state_b = torch.cat([s_n for (s, a, r, s_n, d) in batch]).to(GPU, dtype = torch.float)\n",
    "            done_b = torch.Tensor([d for (s, a, r, s_n, d) in batch]).to(GPU, dtype = torch.float)\n",
    "            # Re-compute q-values for states minibatch to get gradient\n",
    "            q_b = model(state_b)\n",
    "            # Compute next state with target network\n",
    "            with torch.no_grad():\n",
    "                q_new_b = model_target(new_state_b)\n",
    "            # Calculate updated q-value using Q-learning algorithm\n",
    "            q_targets_b = reward_b + GAMMA * ((1 - done_b) * torch.max(q_new_b, dim = 1)[0])\n",
    "            # Update the q-value corresponding to the action that was chosen \n",
    "            q_preds_b = q_b.gather(dim = 1, index = action_b.long().unsqueeze(dim = 1)).squeeze()\n",
    "            # Calculate minibatch loss\n",
    "            loss_b = loss_funct(q_preds_b, q_targets_b.detach())\n",
    "            optimizer.zero_grad()\n",
    "            loss_b.backward()\n",
    "            losses.append(loss_b.item())\n",
    "            # Update model parameters\n",
    "            optimizer.step()\n",
    "        # ------------------ Experience replay ends ------------------\n",
    "        # Check if game was run to completion or max_actions was exceeded\n",
    "        if reward != -1 or actions_taken > max_actions:\n",
    "            game_in_progress = False\n",
    "            actions_taken = 0 \n",
    "    # ------------------ Game ends ------------------\n",
    "    time_end = time.time()\n",
    "    game_times.append(time_end - time_start)\n",
    "    game_time_left = (num_epochs - i_epoch) * np.mean(game_times)\n",
    "    if i_epoch % 500 == 0:\n",
    "        print(f'Epoch: {i_epoch:04d} | Loss: {loss_b.item():.5f} | Approx. time left: {(game_time_left / 60):.3f} min')"
   ]
  },
  {
   "cell_type": "code",
   "execution_count": 18,
   "metadata": {},
   "outputs": [
    {
     "data": {
      "image/png": "[encoded data removed]",
      "text/plain": [
       "<Figure size 432x288 with 1 Axes>"
      ]
     },
     "metadata": {
      "needs_background": "light"
     },
     "output_type": "display_data"
    }
   ],
   "source": [
    "losses = pd.Series(losses)\n",
    "losses = losses.rolling(500).mean()\n",
    "\n",
    "plt.plot(losses);"
   ]
  },
  {
   "cell_type": "code",
   "execution_count": 19,
   "metadata": {},
   "outputs": [
    {
     "name": "stdout",
     "output_type": "stream",
     "text": [
      "Win percentage: 0.8825\n"
     ]
    }
   ],
   "source": [
    "wins = []\n",
    "\n",
    "for i in range(2000):\n",
    "    res = test_model(model)\n",
    "    wins.append(res)\n",
    "    \n",
    "print(f'Win percentage: {np.mean(wins)}')"
   ]
  }
 ],
 "metadata": {
  "kernelspec": {
   "display_name": "Python 3",
   "language": "python",
   "name": "python3"
  },
  "language_info": {
   "codemirror_mode": {
    "name": "ipython",
    "version": 3
   },
   "file_extension": ".py",
   "mimetype": "text/x-python",
   "name": "python",
   "nbconvert_exporter": "python",
   "pygments_lexer": "ipython3",
   "version": "3.8.1"
  }
 },
 "nbformat": 4,
 "nbformat_minor": 4
}
