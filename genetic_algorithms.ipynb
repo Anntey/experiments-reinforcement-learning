{
 "cells": [
  {
   "cell_type": "markdown",
   "metadata": {},
   "source": [
    "## String generation"
   ]
  },
  {
   "cell_type": "code",
   "execution_count": 38,
   "metadata": {},
   "outputs": [],
   "source": [
    "import random\n",
    "import numpy as np\n",
    "import matplotlib.pyplot as plt\n",
    "from difflib import SequenceMatcher"
   ]
  },
  {
   "cell_type": "code",
   "execution_count": 39,
   "metadata": {},
   "outputs": [],
   "source": [
    "alphabet = 'abcdefghijklmnopqrstuvwxyzABCDEFGHIJKLMNOPQRSTUVWXYZ,.! '\n",
    "target = 'Hello World'"
   ]
  },
  {
   "cell_type": "code",
   "execution_count": 40,
   "metadata": {},
   "outputs": [],
   "source": [
    "class Individual:\n",
    "    def __init__(self, string, fitness = 0):\n",
    "        self.string = string\n",
    "        self.fitness = fitness\n",
    "        \n",
    "def similar(a, b):\n",
    "    return SequenceMatcher(None, a, b).ratio()\n",
    "\n",
    "def spawn_population(length = 26, size = 100):\n",
    "    pop = []\n",
    "    for i in range(size):\n",
    "        string = ''.join(random.choices(alphabet, k = length))\n",
    "        individual = Individual(string)\n",
    "        pop.append(individual)\n",
    "    return pop\n",
    "\n",
    "def recombine(parent_1, parent_2):\n",
    "    parent_1 = parent_1.string\n",
    "    parent_2 = parent_2.string\n",
    "    child_1 = []\n",
    "    child_2 = []\n",
    "    cross_point = random.randint(0, len(parent_1))\n",
    "    child_1.extend(parent_1[0:cross_point])\n",
    "    child_1.extend(parent_2[cross_point:])\n",
    "    child_2.extend(parent_2[0:cross_point])\n",
    "    child_2.extend(parent_2[cross_point:])\n",
    "    child_1 = Individual(''.join(child_1))\n",
    "    child_2 = Individual(''.join(child_2))\n",
    "    return child_1, child_2\n",
    "\n",
    "def mutate(x, rate = 0.01):\n",
    "    new_x = []\n",
    "    for char in x.string:\n",
    "        if random.random() < rate:\n",
    "            new_x.extend(random.choices(alphabet, k = 1))\n",
    "        else:\n",
    "            new_x.append(char)\n",
    "    new_x = Individual(''.join(new_x))\n",
    "    return new_x\n",
    "\n",
    "def evaluate_population(pop, target):\n",
    "    avg_fit = 0\n",
    "    for i in range(len(pop)):\n",
    "        fit = similar(pop[i].string, target)\n",
    "        pop[i].fitness = fit\n",
    "        avg_fit += fit\n",
    "    avg_fit /= len(pop)\n",
    "    return pop, avg_fit\n",
    "\n",
    "def next_generation(pop, size = 100, length = 26, mut_rate = 0.01):\n",
    "    new_pop = []\n",
    "    while len(new_pop) < size:\n",
    "        parents = random.choices(pop, k = 2, weights = [x.fitness for x in pop])\n",
    "        offspring = recombine(parents[0], parents[1])\n",
    "        child_1 = mutate(offspring[0], rate = mut_rate)\n",
    "        child_2 = mutate(offspring[1], rate = mut_rate)\n",
    "        offspring = [child_1, child_2]\n",
    "        new_pop.extend(offspring)\n",
    "    return new_pop    "
   ]
  },
  {
   "cell_type": "code",
   "execution_count": 41,
   "metadata": {},
   "outputs": [
    {
     "name": "stdout",
     "output_type": "stream",
     "text": [
      "Generation: 000 | Avg. fit: 0.1118\n",
      "Generation: 010 | Avg. fit: 0.2456\n",
      "Generation: 020 | Avg. fit: 0.4298\n",
      "Generation: 030 | Avg. fit: 0.5673\n",
      "Generation: 040 | Avg. fit: 0.6621\n",
      "Generation: 050 | Avg. fit: 0.7061\n",
      "Generation: 060 | Avg. fit: 0.7489\n",
      "Generation: 070 | Avg. fit: 0.7852\n",
      "Generation: 080 | Avg. fit: 0.7943\n",
      "Generation: 090 | Avg. fit: 0.7966\n",
      "Generation: 100 | Avg. fit: 0.7997\n",
      "Generation: 110 | Avg. fit: 0.8030\n",
      "Generation: 120 | Avg. fit: 0.8019\n",
      "Generation: 130 | Avg. fit: 0.8015\n",
      "Generation: 140 | Avg. fit: 0.8044\n",
      "Generation: 150 | Avg. fit: 0.8061\n",
      "Generation: 160 | Avg. fit: 0.8055\n",
      "Generation: 170 | Avg. fit: 0.8090\n",
      "Generation: 180 | Avg. fit: 0.8076\n",
      "Generation: 190 | Avg. fit: 0.8061\n"
     ]
    }
   ],
   "source": [
    "num_generations = 200\n",
    "population_size = 900\n",
    "str_len = len(target)\n",
    "mutation_rate = 1e-3\n",
    "\n",
    "pop_fit = []\n",
    "pop = spawn_population(size = population_size, length = str_len)\n",
    "\n",
    "for gen in range(num_generations):\n",
    "    pop, avg_fit = evaluate_population(pop, target)\n",
    "    pop_fit.append(avg_fit)\n",
    "    new_pop = next_generation(pop, size = population_size, length = str_len, mut_rate = mutation_rate)\n",
    "    pop = new_pop\n",
    "    if gen % 10 == 0:\n",
    "        print(f'Generation: {gen:03d} | Avg. fit: {np.mean(pop_fit[-10:]):.4f}')"
   ]
  },
  {
   "cell_type": "code",
   "execution_count": 43,
   "metadata": {},
   "outputs": [
    {
     "data": {
      "image/png": "[encoded data removed]",
      "text/plain": [
       "<Figure size 432x288 with 1 Axes>"
      ]
     },
     "metadata": {
      "needs_background": "light"
     },
     "output_type": "display_data"
    }
   ],
   "source": [
    "plt.plot(range(num_generations), pop_fit);"
   ]
  },
  {
   "cell_type": "code",
   "execution_count": 44,
   "metadata": {},
   "outputs": [
    {
     "data": {
      "text/plain": [
       "'Helloo Wodl'"
      ]
     },
     "execution_count": 44,
     "metadata": {},
     "output_type": "execute_result"
    }
   ],
   "source": [
    "pop.sort(key = lambda x: x.fitness, reverse = True)\n",
    "\n",
    "pop[0].string"
   ]
  },
  {
   "cell_type": "markdown",
   "metadata": {},
   "source": [
    "## Cartpole"
   ]
  },
  {
   "cell_type": "code",
   "execution_count": 78,
   "metadata": {},
   "outputs": [],
   "source": [
    "import torch\n",
    "import gym\n",
    "import pandas as pd"
   ]
  },
  {
   "cell_type": "code",
   "execution_count": 71,
   "metadata": {},
   "outputs": [],
   "source": [
    "def model(x, parameters):\n",
    "    hidden_1, bias_1, hidden_2, bias_2, hidden_3, bias_3 = parameters\n",
    "    y = torch.nn.functional.linear(x, hidden_1, bias_1)\n",
    "    y = torch.relu(y)\n",
    "    y = torch.nn.functional.linear(y, hidden_2, bias_2)\n",
    "    y = torch.relu(y)\n",
    "    y = torch.nn.functional.linear(y, hidden_3, bias_3)\n",
    "    y = torch.log_softmax(y, dim = 0)\n",
    "    return y\n",
    "\n",
    "def unpack_parameters(params, layers = [(25, 4), (10, 25), (2, 10)]):\n",
    "    unpacked_params = []\n",
    "    e = 0\n",
    "    for i, l in enumerate(layers):\n",
    "        s, e = e, e + np.prod(l)\n",
    "        weights = params[s:e].view(l)\n",
    "        s, e = e, e + l[0]\n",
    "        bias = params[s:e]\n",
    "        unpacked_params.extend([weights, bias])\n",
    "    return unpacked_params\n",
    "\n",
    "def spawn_population(pop_size = 50, num_params = 407):\n",
    "    pop = []\n",
    "    for i in range(pop_size):\n",
    "        vec = torch.randn(num_params) / 2.0\n",
    "        fit = 0\n",
    "        p = {'params': vec, 'fitness': fit}\n",
    "        pop.append(p)\n",
    "    return pop\n",
    "\n",
    "def recombine(agent_1, agent_2):\n",
    "    agent_1 = agent_1['params']\n",
    "    agent_2 = agent_2['params']\n",
    "    length = agent_1.shape[0]\n",
    "    split_point = np.random.randint(length)\n",
    "    child_1 = torch.zeros(length)\n",
    "    child_2 = torch.zeros(length)\n",
    "    child_1[0:split_point] = agent_1[0:split_point]\n",
    "    child_1[split_point:] = agent_2[split_point:]\n",
    "    child_2[0:split_point] = agent_2[0:split_point]\n",
    "    child_2[split_point:] = agent_1[split_point:]\n",
    "    child_1 = {'params': child_1, 'fitness': 0.0} \n",
    "    child_2 = {'params': child_2, 'fitness': 0.0}\n",
    "    return child_1, child_2\n",
    "\n",
    "def mutate(agent, rate = 0.01):\n",
    "    new_params = agent['params']\n",
    "    num_changes = int(rate * new_params.shape[0])\n",
    "    idx = np.random.randint(0, new_params.shape[0], size = (num_changes,))\n",
    "    new_params[idx] = torch.randn(num_changes) / 10.0\n",
    "    agent['params'] = new_params\n",
    "    return agent\n",
    "\n",
    "def test_model(agent):\n",
    "    finished = False\n",
    "    state = torch.from_numpy(env.reset()).float()\n",
    "    score = 0\n",
    "    while not finished:\n",
    "        params = unpack_parameters(agent['params'])\n",
    "        probs = model(state, params)\n",
    "        action = torch.distributions.Categorical(probs = probs).sample()\n",
    "        state_new, _, finished, _ = env.step(action.item())\n",
    "        state = torch.from_numpy(state_new).float()\n",
    "        score += 1\n",
    "    return score\n",
    "\n",
    "def evaluate_population(pop):\n",
    "    fit_total = 0 \n",
    "    for agent in pop: \n",
    "        score = test_model(agent) \n",
    "        agent['fitness'] = score \n",
    "        fit_total += score\n",
    "    avg_fit = fit_total / len(pop)\n",
    "    return pop, avg_fit\n",
    "\n",
    "def next_generation(pop, mut_rate = 0.001, tournament_size = 0.2):\n",
    "    new_pop = []\n",
    "    len_pop = len(pop)\n",
    "    while len(new_pop) < len(pop): \n",
    "        rids = np.random.randint(0, len_pop, size = (int(tournament_size * len_pop)))\n",
    "        batch = np.array([[i, x['fitness']] for (i, x) in enumerate(pop) if i in rids]) \n",
    "        scores = batch[batch[:, 1].argsort()] \n",
    "        i_best, i_secbest = int(scores[-1][0]), int(scores[-2][0]) \n",
    "        parent_1, parent_2 = pop[i_best], pop[i_secbest]\n",
    "        offspring_ = recombine(parent_1, parent_2) \n",
    "        child_1 = mutate(offspring_[0], rate = mut_rate) \n",
    "        child_2 = mutate(offspring_[1], rate = mut_rate)\n",
    "        offspring = [child_1, child_2]\n",
    "        new_pop.extend(offspring)\n",
    "    return new_pop"
   ]
  },
  {
   "cell_type": "code",
   "execution_count": 76,
   "metadata": {},
   "outputs": [
    {
     "name": "stdout",
     "output_type": "stream",
     "text": [
      "Generation: 00 | Avg. fit: 15.71\n",
      "Generation: 05 | Avg. fit: 89.24\n",
      "Generation: 10 | Avg. fit: 149.84\n",
      "Generation: 15 | Avg. fit: 151.60\n",
      "Generation: 20 | Avg. fit: 153.58\n",
      "Generation: 25 | Avg. fit: 160.12\n",
      "Generation: 30 | Avg. fit: 161.88\n",
      "Generation: 35 | Avg. fit: 159.54\n",
      "Generation: 40 | Avg. fit: 157.79\n",
      "Generation: 45 | Avg. fit: 159.28\n"
     ]
    }
   ],
   "source": [
    "env = gym.make(\"CartPole-v0\")\n",
    "\n",
    "num_generations = 50\n",
    "population_size = 500\n",
    "mutation_rate = 0.01\n",
    "pop_fit = []\n",
    "pop = spawn_population(pop_size = population_size, num_params = 407)\n",
    "\n",
    "for i in range(num_generations):\n",
    "    pop, avg_fit = evaluate_population(pop)\n",
    "    pop_fit.append(avg_fit)\n",
    "    pop = next_generation(pop, mut_rate = mutation_rate, tournament_size = 0.2)\n",
    "    if i % 5 == 0:\n",
    "        print(f'Generation: {i:02d} | Avg. fit: {np.mean(pop_fit[-5:]):.2f}')"
   ]
  },
  {
   "cell_type": "code",
   "execution_count": 80,
   "metadata": {},
   "outputs": [
    {
     "data": {
      "image/png": "[encoded data removed]",
      "text/plain": [
       "<Figure size 432x288 with 1 Axes>"
      ]
     },
     "metadata": {
      "needs_background": "light"
     },
     "output_type": "display_data"
    }
   ],
   "source": [
    "pop_fit = pd.Series(pop_fit).rolling(3).mean()\n",
    "\n",
    "plt.plot(range(num_generations), pop_fit);"
   ]
  }
 ],
 "metadata": {
  "kernelspec": {
   "display_name": "Python 3",
   "language": "python",
   "name": "python3"
  },
  "language_info": {
   "codemirror_mode": {
    "name": "ipython",
    "version": 3
   },
   "file_extension": ".py",
   "mimetype": "text/x-python",
   "name": "python",
   "nbconvert_exporter": "python",
   "pygments_lexer": "ipython3",
   "version": "3.8.1"
  }
 },
 "nbformat": 4,
 "nbformat_minor": 4
}
