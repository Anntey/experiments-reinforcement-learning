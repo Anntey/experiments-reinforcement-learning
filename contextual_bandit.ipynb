{
 "cells": [
  {
   "cell_type": "code",
   "execution_count": null,
   "metadata": {},
   "outputs": [],
   "source": [
    "import numpy as np\n",
    "import pandas as pd\n",
    "import random\n",
    "import matplotlib.pyplot as plt\n",
    "from torch import Tensor\n",
    "from torch.nn import Sequential, Linear, ReLU, MSELoss\n",
    "from torch.optim import Adam"
   ]
  },
  {
   "cell_type": "code",
   "execution_count": null,
   "metadata": {},
   "outputs": [],
   "source": [
    "NUM_ARMS = 10\n",
    "NUM_STATES = 10\n",
    "BATCH_SIZE = 1\n",
    "DIM_INPUT = NUM_ARMS\n",
    "DIM_HIDDEN = 100\n",
    "DIM_OUTPUT = NUM_ARMS\n",
    "NUM_ITERS = 5_000"
   ]
  },
  {
   "cell_type": "code",
   "execution_count": null,
   "metadata": {},
   "outputs": [],
   "source": [
    "class ContextBandit():\n",
    "    def __init__(self, num_arms, num_states):\n",
    "        self.num_states = num_states\n",
    "        self.num_arms = num_arms\n",
    "        self.prob_arms = np.random.rand(num_arms, num_arms)\n",
    "        self.update_state()\n",
    "        \n",
    "    def update_state(self):\n",
    "        self.state = np.random.choice(self.num_states)\n",
    "        \n",
    "    def get_state(self):\n",
    "        return self.state\n",
    "        \n",
    "    def get_reward(self, arm_choice):\n",
    "        prob = self.prob_arms[self.state, arm_choice]\n",
    "        max_reward = 10\n",
    "        reward = 0\n",
    "        for i in range(max_reward):\n",
    "            if random.random() < prob:\n",
    "                reward += 1 \n",
    "        return reward\n",
    "        \n",
    "    def choose_arm(self, arm_choice):\n",
    "        reward = self.get_reward(arm_choice)\n",
    "        self.update_state()      \n",
    "        return reward\n",
    "   \n",
    "def softmax(x, temp = 2.0):\n",
    "    return (np.exp(x / temp) / np.sum(np.exp(x / temp)))\n",
    "\n",
    "def one_hot(x, num_arms = NUM_ARMS):\n",
    "    vector = np.zeros(num_arms)\n",
    "    vector[x] = 1\n",
    "    return vector"
   ]
  },
  {
   "cell_type": "code",
   "execution_count": null,
   "metadata": {},
   "outputs": [],
   "source": [
    "model = Sequential(\n",
    "    Linear(DIM_INPUT, DIM_HIDDEN),\n",
    "    ReLU(),\n",
    "    Linear(DIM_HIDDEN, DIM_OUTPUT),\n",
    "    ReLU(),\n",
    ")\n",
    "\n",
    "criterion = MSELoss(size_average = False)\n",
    "optimizer = Adam(model.parameters(), lr = 1e-2)"
   ]
  },
  {
   "cell_type": "code",
   "execution_count": 226,
   "metadata": {},
   "outputs": [],
   "source": [
    "env = ContextBandit(NUM_ARMS, NUM_STATES)\n",
    "\n",
    "state = Tensor(one_hot(env.get_state()))\n",
    "\n",
    "rewards = []\n",
    "\n",
    "for i in range(NUM_ITERS):\n",
    "    # Take highest reward choice\n",
    "    reward_pred = model(state)   \n",
    "    reward_distn = softmax(reward_pred.data.numpy())\n",
    "    reward_distn /= reward_distn.sum()   \n",
    "    choice = np.random.choice(NUM_ARMS, p = reward_distn)\n",
    "    # Calculate loss\n",
    "    reward_true = env.choose_arm(choice)\n",
    "    reward_updated = reward_pred.data.numpy().copy()\n",
    "    reward_updated[choice] = reward_true\n",
    "    reward = Tensor(reward_updated)\n",
    "    loss = criterion(reward_pred, reward)\n",
    "    # Update parameters\n",
    "    optimizer.zero_grad()\n",
    "    loss.backward()\n",
    "    optimizer.step()\n",
    "    # Update state\n",
    "    state = Tensor(one_hot(env.get_state()))\n",
    "    # Log rewards\n",
    "    rewards.append(reward_true)"
   ]
  },
  {
   "cell_type": "code",
   "execution_count": 225,
   "metadata": {},
   "outputs": [
    {
     "data": {
      "image/png": "[encoded data removed]",
      "text/plain": [
       "<Figure size 432x288 with 1 Axes>"
      ]
     },
     "metadata": {
      "needs_background": "light"
     },
     "output_type": "display_data"
    }
   ],
   "source": [
    "rewards = pd.Series(rewards)\n",
    "rewards = rewards.rolling(300).mean()\n",
    "\n",
    "plt.plot(rewards);"
   ]
  }
 ],
 "metadata": {
  "file_extension": ".py",
  "kernelspec": {
   "display_name": "Python 3",
   "language": "python",
   "name": "python3"
  },
  "language_info": {
   "codemirror_mode": {
    "name": "ipython",
    "version": 3
   },
   "file_extension": ".py",
   "mimetype": "text/x-python",
   "name": "python",
   "nbconvert_exporter": "python",
   "pygments_lexer": "ipython3",
   "version": "3.8.1"
  },
  "mimetype": "text/x-python",
  "name": "python",
  "npconvert_exporter": "python",
  "pygments_lexer": "ipython3",
  "version": 3
 },
 "nbformat": 4,
 "nbformat_minor": 4
}
