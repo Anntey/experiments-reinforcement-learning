{
 "cells": [
  {
   "cell_type": "markdown",
   "metadata": {},
   "source": [
    "## Super Mario Bros"
   ]
  },
  {
   "cell_type": "code",
   "execution_count": 1,
   "metadata": {},
   "outputs": [],
   "source": [
    "import gym\n",
    "import torch\n",
    "from torch import optim\n",
    "import torch.nn.functional as F\n",
    "from torch.nn import MSELoss, CrossEntropyLoss\n",
    "from torch.nn import Conv2d, Linear\n",
    "from torch.optim import Adam\n",
    "from random import shuffle\n",
    "from torch import nn\n",
    "from collections import deque\n",
    "import matplotlib.pyplot as plt\n",
    "from skimage.transform import resize\n",
    "import numpy as np\n",
    "from nes_py.wrappers import JoypadSpace\n",
    "import gym_super_mario_bros\n",
    "from gym_super_mario_bros.actions import SIMPLE_MOVEMENT, COMPLEX_MOVEMENT\n",
    "import warnings\n",
    "warnings.filterwarnings('ignore')\n",
    "plt.style.use('seaborn')"
   ]
  },
  {
   "cell_type": "code",
   "execution_count": 3,
   "metadata": {},
   "outputs": [],
   "source": [
    "env = gym_super_mario_bros.make(\"SuperMarioBros-v0\")\n",
    "env = JoypadSpace(env, COMPLEX_MOVEMENT)"
   ]
  },
  {
   "cell_type": "code",
   "execution_count": 12,
   "metadata": {},
   "outputs": [
    {
     "data": {
      "image/png": "[encoded data removed]",
      "text/plain": [
       "<Figure size 432x288 with 1 Axes>"
      ]
     },
     "metadata": {
      "needs_background": "light"
     },
     "output_type": "display_data"
    }
   ],
   "source": [
    "plt.imshow(env.render(\"rgb_array\"));"
   ]
  },
  {
   "cell_type": "code",
   "execution_count": 3,
   "metadata": {},
   "outputs": [],
   "source": [
    "finished = True\n",
    "\n",
    "for step in range(2_500):\n",
    "    if finished:\n",
    "        state = env.reset()\n",
    "    state, reward, finished, _ = env.step(env.action_space.sample())\n",
    "    env.render()\n",
    "    \n",
    "env.close()"
   ]
  },
  {
   "cell_type": "code",
   "execution_count": 4,
   "metadata": {},
   "outputs": [],
   "source": [
    "def downscale_state(state, new_size = (42, 42), to_gray = True):\n",
    "    '''Resizes to (42, 42) and converts to grayscale'''\n",
    "    if to_gray:\n",
    "        return resize(state, new_size, anti_aliasing = True).max(axis = 2)\n",
    "    else:\n",
    "        return resize(state, new_size, anti_aliasing = True)"
   ]
  },
  {
   "cell_type": "code",
   "execution_count": 37,
   "metadata": {},
   "outputs": [
    {
     "data": {
      "image/png": "[encoded data removed]",
      "text/plain": [
       "<Figure size 720x1080 with 3 Axes>"
      ]
     },
     "metadata": {
      "needs_background": "light"
     },
     "output_type": "display_data"
    }
   ],
   "source": [
    "env.reset()\n",
    "\n",
    "fig = plt.figure(figsize = (10, 15))\n",
    "for i in range(30):\n",
    "    if i % 10 == 0:\n",
    "        plt.subplot(1, 3, i/10 + 1)\n",
    "        plt.imshow(downscale_state(env.render(\"rgb_array\")), cmap = 'gray')\n",
    "    _, _, _, _ = env.step(2)"
   ]
  },
  {
   "cell_type": "markdown",
   "metadata": {},
   "source": [
    "### Auxiliary functions"
   ]
  },
  {
   "cell_type": "code",
   "execution_count": 5,
   "metadata": {},
   "outputs": [],
   "source": [
    "def prepare_state(state):\n",
    "    '''Converts state to grayscale and adds batch dimension'''\n",
    "    state = torch.from_numpy(downscale_state(state)).float()\n",
    "    state = state.unsqueeze(dim = 0)\n",
    "    return state\n",
    "\n",
    "def prepare_state_seq(state_1, state_2):\n",
    "    '''Adds state_2 to state_1 as a new frame in a sequence (queue) of state arrays'''\n",
    "    state_1 = state_1.clone()\n",
    "    state_2 = torch.from_numpy(downscale_state(state_2)).float()\n",
    "    state_1[0, 0] = state_1[0, 1]\n",
    "    state_1[0, 1] = state_1[0, 2]\n",
    "    state_1[0, 2] = state_2\n",
    "    return state_1\n",
    "\n",
    "def prepare_initial_state(state, num_dims = 3):\n",
    "    '''Creates a sequence of state arrays with the same state as the 3 frames'''\n",
    "    state = torch.from_numpy(downscale_state(state)).float()\n",
    "    state = state.repeat((num_dims, 1, 1))\n",
    "    state = state.unsqueeze(dim = 0)\n",
    "    return state\n",
    "\n",
    "def reset_env():\n",
    "    \"\"\"Reset the environment and return a new initial state\"\"\"\n",
    "    env.reset()\n",
    "    state = prepare_initial_state(env.render('rgb_array'))\n",
    "    return state"
   ]
  },
  {
   "cell_type": "markdown",
   "metadata": {},
   "source": [
    "### Experience Replay and Policy Function"
   ]
  },
  {
   "cell_type": "code",
   "execution_count": 6,
   "metadata": {},
   "outputs": [],
   "source": [
    "def policy_function(q_values, epsilon = None):\n",
    "    '''Choose action by epsilon-greedy or multinomial sampling'''\n",
    "    if epsilon is not None:\n",
    "        if torch.rand(1) < epsilon:\n",
    "            return torch.randint(0, 7, size = (1,))\n",
    "        else:\n",
    "            return torch.argmax(q_values)\n",
    "    else:\n",
    "        return torch.multinomial(F.softmax(F.normalize(q_values), dim = 1), num_samples = 1)\n",
    "    \n",
    "class ExperienceReplay:\n",
    "    '''Experience replay class that contains a list of tuples with minibatch functionality'''\n",
    "    def __init__(self, n = 1_000, batch_size = 100):\n",
    "        self.n = n\n",
    "        self.batch_size = batch_size\n",
    "        self.memory = []\n",
    "        self.counter = 0\n",
    "        \n",
    "    def add_memory(self, state, action, reward, state_new):\n",
    "        self.counter +=1\n",
    "        if self.counter % 500 == 0:\n",
    "            self.shuffle_memory()\n",
    "            \n",
    "        if len(self.memory) < self.n:\n",
    "            self.memory.append((state, action, reward, state_new))\n",
    "        else:\n",
    "            i_random = np.random.randint(0, self.n - 1)\n",
    "            self.memory[i_random] = (state, action, reward, state_new)\n",
    "    \n",
    "    def shuffle_memory(self):\n",
    "        shuffle(self.memory)\n",
    "        \n",
    "    def get_batch(self):\n",
    "        if len(self.memory) < self.batch_size:\n",
    "            batch_size = len(self.memory)\n",
    "        else:\n",
    "            batch_size = self.batch_size\n",
    "        if len(self.memory) < 1:\n",
    "            print(\"Error: No data in memory.\")\n",
    "            return None\n",
    "        \n",
    "        indices = np.random.choice(np.arange(len(self.memory)), batch_size, replace = False)\n",
    "        batch = [self.memory[i] for i in indices]\n",
    "        states_b = torch.stack([s.squeeze(dim = 0) for (s, a, r, s_n) in batch], dim = 0)\n",
    "        actions_b = torch.Tensor([a for (s, a, r, s_n) in batch]).long()\n",
    "        rewards_b = torch.Tensor([r for (s, a, r, s_n) in batch])\n",
    "        states_new_b = torch.stack([s_n.squeeze(dim = 0) for (s, a, r, s_n) in batch], dim = 0)\n",
    "        return states_b, actions_b, rewards_b, states_new_b"
   ]
  },
  {
   "cell_type": "markdown",
   "metadata": {},
   "source": [
    "### Intrinsic Curiosity Module"
   ]
  },
  {
   "cell_type": "code",
   "execution_count": 7,
   "metadata": {},
   "outputs": [],
   "source": [
    "class EncoderNetwork(nn.Module):\n",
    "    '''\n",
    "    Transforms three-frame states into a low-dimensional vector.\n",
    "    Encodes states for InverseModel and ForwardModel.\n",
    "    '''\n",
    "    def __init__(self):\n",
    "        super().__init__()\n",
    "        self.conv1 = Conv2d(3, 32, (3, 3), stride = 2, padding = 1)\n",
    "        self.conv2 = Conv2d(32, 32, (3, 3), stride = 2, padding = 1)\n",
    "        self.conv3 = Conv2d(32, 32, (3, 3), stride = 2, padding = 1)\n",
    "        self.conv4 = Conv2d(32, 32, (3, 3), stride = 2, padding = 1)\n",
    "        \n",
    "    def forward(self, x):\n",
    "        x = F.normalize(x)\n",
    "        y = F.elu(self.conv1(x))\n",
    "        y = F.elu(self.conv2(y))\n",
    "        y = F.elu(self.conv3(y))\n",
    "        y = F.elu(self.conv4(y))\n",
    "        y = y.flatten(start_dim = 1) \n",
    "        return y # (n, 288)\n",
    "    \n",
    "class InverseModel(nn.Module):\n",
    "    '''\n",
    "    Predicts the action that was taken, given two successive encoded states.\n",
    "    Trains the Encoder.\n",
    "    '''\n",
    "    def __init__(self):\n",
    "        super().__init__()\n",
    "        self.linear1 = Linear(288+288, 256)\n",
    "        self.linear2 = Linear(256, 12)\n",
    "\n",
    "    def forward(self, state, state_new):\n",
    "        x = torch.cat((state, state_new), dim = 1)\n",
    "        y = F.relu(self.linear1(x))\n",
    "        y = self.linear2(y)\n",
    "        y = F.softmax(y, dim = 1)\n",
    "        return y # (n, 12)\n",
    "    \n",
    "class ForwardModel(nn.Module):\n",
    "    '''\n",
    "    Predicts the next encoded state, given action and current encoded state.\n",
    "    Produces a prediction error (reward signal) for the QNetwork.\n",
    "    '''\n",
    "    def __init__(self):\n",
    "        super().__init__()\n",
    "        self.linear1 = Linear(300, 256)\n",
    "        self.linear2 = Linear(256, 288)  \n",
    "\n",
    "    def forward(self, state, action):\n",
    "        action_ = torch.zeros(action.shape[0], 12)\n",
    "        indices = torch.stack((torch.arange(action.shape[0]), action.squeeze()), dim = 0)\n",
    "        indices = indices.tolist()\n",
    "        action_[indices] = 1.0\n",
    "        x = torch.cat((state, action_), dim = 1)\n",
    "        y = F.relu(self.linear1(x))\n",
    "        y = self.linear2(y)\n",
    "        return y # (n, 288)\n",
    "    \n",
    "class QNetwork(nn.Module):\n",
    "    '''\n",
    "    2D-CNN that takes the (error of the ForwardModel + actual reward) as reward.\n",
    "    The QNetwork and Curiosity Module contribute to the overall loss being optimized.\n",
    "    Outputs Q-value predictions.\n",
    "    '''\n",
    "    def __init__(self):\n",
    "        super().__init__()\n",
    "        self.conv1 = Conv2d(3, 32, (3, 3), stride = 2, padding = 1)\n",
    "        self.conv2 = Conv2d(32, 32, (3, 3), stride = 2, padding = 1)\n",
    "        self.conv3 = Conv2d(32, 32, (3, 3), stride = 2, padding = 1)\n",
    "        self.conv4 = Conv2d(32, 32, (3, 3), stride = 2, padding = 1)\n",
    "        self.linear1 = Linear(288, 100)\n",
    "        self.linear2 = Linear(100, 12)\n",
    "\n",
    "    def forward(self, x):\n",
    "        x = F.normalize(x)\n",
    "        y = F.elu(self.conv1(x))\n",
    "        y = F.elu(self.conv2(y))\n",
    "        y = F.elu(self.conv3(y))\n",
    "        y = F.elu(self.conv4(y))\n",
    "        y = y.flatten(start_dim = 2)\n",
    "        y = y.view(y.shape[0], -1, 32)\n",
    "        y = y.flatten(start_dim = 1)\n",
    "        y = F.elu(self.linear1(y))\n",
    "        y = self.linear2(y)\n",
    "        return y"
   ]
  },
  {
   "cell_type": "markdown",
   "metadata": {},
   "source": [
    "### Model initiation"
   ]
  },
  {
   "cell_type": "code",
   "execution_count": 8,
   "metadata": {},
   "outputs": [],
   "source": [
    "hyperparams = {\n",
    "    'batch_size': 150,\n",
    "    'beta': 0.2,\n",
    "    'lambda': 0.1,\n",
    "    'eta': 1.0,\n",
    "    'discount': 0.2,\n",
    "    'max_episode_len': 100,\n",
    "    'min_progress': 15,\n",
    "    'action_repeats': 6,\n",
    "    'frames_per_state': 3\n",
    "}\n",
    "\n",
    "replay = ExperienceReplay(batch_size = hyperparams['batch_size'])\n",
    "\n",
    "q_network = QNetwork()\n",
    "encoder = EncoderNetwork()\n",
    "forward_model = ForwardModel()\n",
    "inverse_model = InverseModel()\n",
    "\n",
    "q_network_loss = MSELoss()\n",
    "forward_loss = MSELoss(reduction = 'none')\n",
    "inverse_loss = CrossEntropyLoss(reduction = 'none')\n",
    "\n",
    "model_params = list(q_network.parameters()) + list(encoder.parameters()) + \\\n",
    "               list(forward_model.parameters()) + list(inverse_model.parameters())\n",
    "\n",
    "optimizer = Adam(model_params, lr = 1e-3)"
   ]
  },
  {
   "cell_type": "markdown",
   "metadata": {},
   "source": [
    "### Loss Function"
   ]
  },
  {
   "cell_type": "code",
   "execution_count": 9,
   "metadata": {},
   "outputs": [],
   "source": [
    "def loss_function(q_loss, inverse_loss, forward_loss):\n",
    "    loss_ = (1 - hyperparams['beta']) * inverse_loss + hyperparams['beta'] * forward_loss\n",
    "    loss_ = loss_.sum() / loss_.flatten().shape[0]\n",
    "    loss = loss_ + hyperparams['lambda'] * q_loss\n",
    "    return loss\n",
    "\n",
    "def icm_pred_error(state, action, state_new, forward_scale = 1.0, inverse_scale = 1e4):\n",
    "    state_enc = encoder(state)\n",
    "    state_new_enc = encoder(state_new)\n",
    "    state_new_enc_pred = forward_model(state_enc.detach(), action.detach())\n",
    "    forward_pred_err = forward_scale * forward_loss(state_new_enc_pred, \\\n",
    "                       state_new_enc.detach()).sum(dim = 1).unsqueeze(dim = 1)\n",
    "    action_pred = inverse_model(state_enc, state_new_enc)\n",
    "    inverse_pred_err = inverse_scale * inverse_loss(action_pred, \\\n",
    "                       action.detach().flatten()).unsqueeze(dim = 1)\n",
    "    return forward_pred_err, inverse_pred_err"
   ]
  },
  {
   "cell_type": "markdown",
   "metadata": {},
   "source": [
    "### Training"
   ]
  },
  {
   "cell_type": "code",
   "execution_count": 10,
   "metadata": {},
   "outputs": [],
   "source": [
    "def minibatch_train(use_extrinsic = True):\n",
    "    state_b, action_b, reward_b, state_new_b = replay.get_batch()\n",
    "    action_b = action_b.view(action_b.shape[0], 1)\n",
    "    reward_b = reward_b.view(reward_b.shape[0], 1)\n",
    "    forward_pred_err, inverse_pred_err = icm_pred_error(state_b, action_b, state_new_b)\n",
    "    i_reward = (1.0 / hyperparams['eta']) * forward_pred_err\n",
    "    reward = i_reward.detach()\n",
    "    if use_explicit:\n",
    "        reward += reward_b\n",
    "    q_vals = q_network(state_new_b)\n",
    "    reward += hyperparams['discount'] * torch.max(q_vals)\n",
    "    reward_pred = q_network(state_b)\n",
    "    reward_target = reward_pred.clone()\n",
    "    indices = torch.stack((torch.arange(action_b.shape[0]), action_b.squeeze()), dim = 0)\n",
    "    indices = indices.tolist()\n",
    "    reward_target[indices] = reward.squeeze()\n",
    "    q_loss = 1e5 * q_network_loss(F.normalize(reward_pred), F.normalize(reward_target.detach()))\n",
    "    return forward_pred_err, inverse_pred_err, q_loss"
   ]
  },
  {
   "cell_type": "code",
   "execution_count": 11,
   "metadata": {},
   "outputs": [
    {
     "name": "stdout",
     "output_type": "stream",
     "text": [
      "\n",
      "        Epoch: 0300\n",
      "        Forward loss: 4.30\n",
      "        Inverse loss: 24413.86\n",
      "        Q-Network loss: 2102.63\n",
      "        \n",
      "\n",
      "        Epoch: 0600\n",
      "        Forward loss: 0.66\n",
      "        Inverse loss: 24693.93\n",
      "        Q-Network loss: 251.81\n",
      "        \n",
      "\n",
      "        Epoch: 0900\n",
      "        Forward loss: 0.11\n",
      "        Inverse loss: 24808.57\n",
      "        Q-Network loss: 322.56\n",
      "        \n",
      "\n",
      "        Epoch: 1200\n",
      "        Forward loss: 0.08\n",
      "        Inverse loss: 24842.80\n",
      "        Q-Network loss: 361.40\n",
      "        \n",
      "\n",
      "        Epoch: 1500\n",
      "        Forward loss: 0.98\n",
      "        Inverse loss: 24848.08\n",
      "        Q-Network loss: 260.06\n",
      "        \n",
      "\n",
      "        Epoch: 1800\n",
      "        Forward loss: 0.36\n",
      "        Inverse loss: 24846.06\n",
      "        Q-Network loss: 348.91\n",
      "        \n",
      "\n",
      "        Epoch: 2100\n",
      "        Forward loss: 0.20\n",
      "        Inverse loss: 24843.78\n",
      "        Q-Network loss: 373.97\n",
      "        \n",
      "\n",
      "        Epoch: 2400\n",
      "        Forward loss: 0.16\n",
      "        Inverse loss: 24848.49\n",
      "        Q-Network loss: 385.33\n",
      "        \n",
      "\n",
      "        Epoch: 2700\n",
      "        Forward loss: 0.15\n",
      "        Inverse loss: 24846.78\n",
      "        Q-Network loss: 385.57\n",
      "        \n",
      "\n",
      "        Epoch: 3000\n",
      "        Forward loss: 0.26\n",
      "        Inverse loss: 24842.28\n",
      "        Q-Network loss: 373.41\n",
      "        \n",
      "\n",
      "        Epoch: 3300\n",
      "        Forward loss: 1.98\n",
      "        Inverse loss: 24852.95\n",
      "        Q-Network loss: 325.34\n",
      "        \n"
     ]
    }
   ],
   "source": [
    "env.reset()\n",
    "\n",
    "num_epochs = 3_500\n",
    "state = prepare_initial_state(env.render('rgb_array'))\n",
    "epsilon = 0.15\n",
    "losses = []\n",
    "actions_taken = 0\n",
    "episode_lens = []\n",
    "switch_to_eps_greedy = 1_000\n",
    "state_deque = deque(maxlen = hyperparams['frames_per_state'])\n",
    "exp_reward = 0.0\n",
    "last_x_pos = env.env.env._x_position\n",
    "use_explicit = False\n",
    "\n",
    "for i_epoch in range(num_epochs):\n",
    "    optimizer.zero_grad()\n",
    "    actions_taken += 1\n",
    "    q_val_pred = q_network(state)\n",
    "    # Switch to epsilon-greedy\n",
    "    if i_epoch > switch_to_eps_greedy:\n",
    "        action = int(policy_function(q_val_pred, epsilon))\n",
    "    else:\n",
    "        action = int(policy_function(q_val_pred))\n",
    "    # Repeat chosen action to speed up learning\n",
    "    for i_repeat in range(hyperparams['action_repeats']):\n",
    "        state_new, exp_reward_, finished, info = env.step(action)\n",
    "        last_x_pos = info['x_pos']\n",
    "        if finished:\n",
    "            state = reset_env()\n",
    "            break\n",
    "        exp_reward += exp_reward_\n",
    "        state_deque.append(prepare_state(state_new))\n",
    "    state_new = torch.stack(list(state_deque), dim = 1)\n",
    "    replay.add_memory(state, action, exp_reward, state_new)\n",
    "    exp_reward = 0\n",
    "    # Restart game if progress isn't made\n",
    "    if actions_taken > hyperparams['max_episode_len']:\n",
    "        if (info['x_pos'] - last_x_pos) < hyperparams['min_progress']:\n",
    "            finished = True\n",
    "        else:\n",
    "            last_x_pos = info['x_pos']\n",
    "    # Check if episode is finished\n",
    "    if finished:\n",
    "        episode_lens.append(info['x_pos'])\n",
    "        state = reset_env()\n",
    "        last_x_pos = env.env.env._x_position\n",
    "        actions_taken = 0\n",
    "    else:\n",
    "        state = state_new\n",
    "    if len(replay.memory) < hyperparams['batch_size']:\n",
    "        continue\n",
    "    # Compute loss and update parameters\n",
    "    forward_pred_err, inverse_pred_err, q_loss = minibatch_train(use_extrinsic = False)\n",
    "    loss = loss_function(q_loss, forward_pred_err, inverse_pred_err)\n",
    "    losses.append((\n",
    "        q_loss.detach().numpy().mean(),\n",
    "        forward_pred_err.flatten().detach().numpy().mean(),\n",
    "        inverse_pred_err.flatten().detach().numpy().mean()\n",
    "    ))\n",
    "    loss.backward()\n",
    "    optimizer.step()\n",
    "    # Print progress\n",
    "    if i_epoch % 300 == 0:\n",
    "        print(f'''\n",
    "        Epoch: {i_epoch:04d}\n",
    "        Forward loss: {np.mean([l2 for (l1, l2, l3) in losses][-300:]):.2f}\n",
    "        Inverse loss: {np.mean([l3 for (l1, l2, l3) in losses][-300:]):.2f}\n",
    "        Q-Network loss: {np.mean([l1 for (l1, l2, l3) in losses][-300:]):.2f}\n",
    "        ''')"
   ]
  },
  {
   "cell_type": "code",
   "execution_count": 24,
   "metadata": {},
   "outputs": [
    {
     "data": {
      "image/png": "[encoded data removed]",
      "text/plain": [
       "<Figure size 576x396 with 1 Axes>"
      ]
     },
     "metadata": {},
     "output_type": "display_data"
    }
   ],
   "source": [
    "losses = np.log(np.array(losses))\n",
    "\n",
    "plt.plot(losses[:, 0], label = 'Q-Network loss')\n",
    "plt.plot(losses[:, 1], label = 'Forward loss')\n",
    "plt.plot(losses[:, 2], label = 'Inverse loss')\n",
    "plt.legend(loc = 'lower left')\n",
    "plt.show()"
   ]
  },
  {
   "cell_type": "code",
   "execution_count": 21,
   "metadata": {},
   "outputs": [
    {
     "data": {
      "image/png": "[encoded data removed]",
      "text/plain": [
       "<Figure size 576x396 with 1 Axes>"
      ]
     },
     "metadata": {},
     "output_type": "display_data"
    }
   ],
   "source": [
    "plt.plot(episode_lens);"
   ]
  },
  {
   "cell_type": "code",
   "execution_count": null,
   "metadata": {},
   "outputs": [],
   "source": [
    "epsilon = 0.1\n",
    "finished = True\n",
    "state_deque = deque(maxlen = hyperparams['frames_per_state'])\n",
    "\n",
    "for i in range(5_000):\n",
    "    if finished:\n",
    "        env.reset()\n",
    "        state = prepare_initial_state(env.render('rgb_array'))\n",
    "    q_val_pred = q_network(state)\n",
    "    action = int(policy_function(q_val_pred, epsilon))\n",
    "    state_new, _, finished, _ = env.step(action)\n",
    "    state_new = prepare_state_seq(state, state_new)\n",
    "    state = state_new\n",
    "    env.render()\n",
    "    \n",
    "env.close()"
   ]
  }
 ],
 "metadata": {
  "kernelspec": {
   "display_name": "Python 3",
   "language": "python",
   "name": "python3"
  },
  "language_info": {
   "codemirror_mode": {
    "name": "ipython",
    "version": 3
   },
   "file_extension": ".py",
   "mimetype": "text/x-python",
   "name": "python",
   "nbconvert_exporter": "python",
   "pygments_lexer": "ipython3",
   "version": "3.8.1"
  }
 },
 "nbformat": 4,
 "nbformat_minor": 4
}
